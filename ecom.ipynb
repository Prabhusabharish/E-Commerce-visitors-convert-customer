{
 "cells": [
  {
   "cell_type": "code",
   "execution_count": 4,
   "metadata": {},
   "outputs": [],
   "source": [
    "import pandas as pd\n",
    "import numpy as np\n",
    "import matplotlib.pyplot as plt\n",
    "import seaborn as sns\n",
    "from sklearn.model_selection import train_test_split\n",
    "from sklearn.preprocessing import StandardScaler\n",
    "from sklearn.ensemble import RandomForestClassifier\n",
    "from sklearn.metrics import classification_report, accuracy_score"
   ]
  },
  {
   "cell_type": "code",
   "execution_count": 112,
   "metadata": {},
   "outputs": [
    {
     "data": {
      "text/html": [
       "<div>\n",
       "<style scoped>\n",
       "    .dataframe tbody tr th:only-of-type {\n",
       "        vertical-align: middle;\n",
       "    }\n",
       "\n",
       "    .dataframe tbody tr th {\n",
       "        vertical-align: top;\n",
       "    }\n",
       "\n",
       "    .dataframe thead th {\n",
       "        text-align: right;\n",
       "    }\n",
       "</style>\n",
       "<table border=\"1\" class=\"dataframe\">\n",
       "  <thead>\n",
       "    <tr style=\"text-align: right;\">\n",
       "      <th></th>\n",
       "      <th>count_session</th>\n",
       "      <th>count_hit</th>\n",
       "      <th>channelGrouping</th>\n",
       "      <th>totals_newVisits</th>\n",
       "      <th>device_browser</th>\n",
       "      <th>device_operatingSystem</th>\n",
       "      <th>device_isMobile</th>\n",
       "      <th>device_deviceCategory</th>\n",
       "      <th>geoNetwork_region</th>\n",
       "      <th>geoNetwork_latitude</th>\n",
       "      <th>...</th>\n",
       "      <th>latest_keyword</th>\n",
       "      <th>earliest_isTrueDirect</th>\n",
       "      <th>latest_isTrueDirect</th>\n",
       "      <th>num_interactions</th>\n",
       "      <th>bounces</th>\n",
       "      <th>time_on_site</th>\n",
       "      <th>transactionRevenue</th>\n",
       "      <th>products_array</th>\n",
       "      <th>has_converted</th>\n",
       "      <th>target_date</th>\n",
       "    </tr>\n",
       "  </thead>\n",
       "  <tbody>\n",
       "    <tr>\n",
       "      <th>0</th>\n",
       "      <td>9</td>\n",
       "      <td>1194</td>\n",
       "      <td>(Other)</td>\n",
       "      <td>0</td>\n",
       "      <td>GoogleAnalytics</td>\n",
       "      <td>Android</td>\n",
       "      <td>True</td>\n",
       "      <td>mobile</td>\n",
       "      <td>Sharjah</td>\n",
       "      <td>25.3463</td>\n",
       "      <td>...</td>\n",
       "      <td>(not set)</td>\n",
       "      <td>True</td>\n",
       "      <td>True</td>\n",
       "      <td>1900</td>\n",
       "      <td>0</td>\n",
       "      <td>5617</td>\n",
       "      <td>0</td>\n",
       "      <td>food////food////food</td>\n",
       "      <td>0</td>\n",
       "      <td>2021-01-01</td>\n",
       "    </tr>\n",
       "    <tr>\n",
       "      <th>1</th>\n",
       "      <td>9</td>\n",
       "      <td>1194</td>\n",
       "      <td>(Other)</td>\n",
       "      <td>0</td>\n",
       "      <td>GoogleAnalytics</td>\n",
       "      <td>Android</td>\n",
       "      <td>True</td>\n",
       "      <td>mobile</td>\n",
       "      <td>Sharjah</td>\n",
       "      <td>25.3463</td>\n",
       "      <td>...</td>\n",
       "      <td>(not set)</td>\n",
       "      <td>True</td>\n",
       "      <td>True</td>\n",
       "      <td>1900</td>\n",
       "      <td>0</td>\n",
       "      <td>5617</td>\n",
       "      <td>0</td>\n",
       "      <td>food////food////food</td>\n",
       "      <td>0</td>\n",
       "      <td>2021-01-01</td>\n",
       "    </tr>\n",
       "  </tbody>\n",
       "</table>\n",
       "<p>2 rows × 46 columns</p>\n",
       "</div>"
      ],
      "text/plain": [
       "   count_session  count_hit channelGrouping  totals_newVisits  \\\n",
       "0              9       1194         (Other)                 0   \n",
       "1              9       1194         (Other)                 0   \n",
       "\n",
       "    device_browser device_operatingSystem  device_isMobile  \\\n",
       "0  GoogleAnalytics                Android             True   \n",
       "1  GoogleAnalytics                Android             True   \n",
       "\n",
       "  device_deviceCategory geoNetwork_region  geoNetwork_latitude  ...  \\\n",
       "0                mobile           Sharjah              25.3463  ...   \n",
       "1                mobile           Sharjah              25.3463  ...   \n",
       "\n",
       "   latest_keyword  earliest_isTrueDirect  latest_isTrueDirect  \\\n",
       "0       (not set)                   True                 True   \n",
       "1       (not set)                   True                 True   \n",
       "\n",
       "   num_interactions  bounces  time_on_site  transactionRevenue  \\\n",
       "0              1900        0          5617                   0   \n",
       "1              1900        0          5617                   0   \n",
       "\n",
       "         products_array  has_converted  target_date  \n",
       "0  food////food////food              0   2021-01-01  \n",
       "1  food////food////food              0   2021-01-01  \n",
       "\n",
       "[2 rows x 46 columns]"
      ]
     },
     "execution_count": 112,
     "metadata": {},
     "output_type": "execute_result"
    }
   ],
   "source": [
    "df = pd.read_csv(\"classification_data.csv\")\n",
    "df.head(2)"
   ]
  },
  {
   "cell_type": "code",
   "execution_count": 113,
   "metadata": {},
   "outputs": [
    {
     "data": {
      "text/plain": [
       "array(['(Other)', 'Paid Search', 'Display'], dtype=object)"
      ]
     },
     "execution_count": 113,
     "metadata": {},
     "output_type": "execute_result"
    }
   ],
   "source": [
    "df['channelGrouping'].unique()"
   ]
  },
  {
   "cell_type": "code",
   "execution_count": 114,
   "metadata": {},
   "outputs": [
    {
     "name": "stdout",
     "output_type": "stream",
     "text": [
      "<class 'pandas.core.frame.DataFrame'>\n",
      "RangeIndex: 100000 entries, 0 to 99999\n",
      "Data columns (total 46 columns):\n",
      " #   Column                  Non-Null Count   Dtype  \n",
      "---  ------                  --------------   -----  \n",
      " 0   count_session           100000 non-null  int64  \n",
      " 1   count_hit               100000 non-null  int64  \n",
      " 2   channelGrouping         100000 non-null  object \n",
      " 3   totals_newVisits        100000 non-null  int64  \n",
      " 4   device_browser          100000 non-null  object \n",
      " 5   device_operatingSystem  100000 non-null  object \n",
      " 6   device_isMobile         100000 non-null  bool   \n",
      " 7   device_deviceCategory   100000 non-null  object \n",
      " 8   geoNetwork_region       100000 non-null  object \n",
      " 9   geoNetwork_latitude     100000 non-null  float64\n",
      " 10  geoNetwork_longitude    100000 non-null  float64\n",
      " 11  historic_session        100000 non-null  int64  \n",
      " 12  historic_session_page   100000 non-null  int64  \n",
      " 13  youtube                 100000 non-null  int64  \n",
      " 14  avg_session_time        100000 non-null  float64\n",
      " 15  avg_session_time_page   100000 non-null  float64\n",
      " 16  single_page_rate        100000 non-null  float64\n",
      " 17  sessionQualityDim       100000 non-null  int64  \n",
      " 18  last_visitId            100000 non-null  int64  \n",
      " 19  latest_visit_id         100000 non-null  int64  \n",
      " 20  visitId_threshold       100000 non-null  int64  \n",
      " 21  earliest_visit_id       100000 non-null  int64  \n",
      " 22  earliest_visit_number   100000 non-null  int64  \n",
      " 23  latest_visit_number     100000 non-null  int64  \n",
      " 24  time_earliest_visit     100000 non-null  float64\n",
      " 25  time_latest_visit       100000 non-null  float64\n",
      " 26  avg_visit_time          100000 non-null  int64  \n",
      " 27  days_since_last_visit   100000 non-null  int64  \n",
      " 28  days_since_first_visit  100000 non-null  int64  \n",
      " 29  visits_per_day          100000 non-null  float64\n",
      " 30  bounce_rate             100000 non-null  float64\n",
      " 31  earliest_source         100000 non-null  object \n",
      " 32  latest_source           100000 non-null  object \n",
      " 33  earliest_medium         100000 non-null  object \n",
      " 34  latest_medium           100000 non-null  object \n",
      " 35  earliest_keyword        100000 non-null  object \n",
      " 36  latest_keyword          100000 non-null  object \n",
      " 37  earliest_isTrueDirect   100000 non-null  bool   \n",
      " 38  latest_isTrueDirect     100000 non-null  bool   \n",
      " 39  num_interactions        100000 non-null  int64  \n",
      " 40  bounces                 100000 non-null  int64  \n",
      " 41  time_on_site            100000 non-null  int64  \n",
      " 42  transactionRevenue      100000 non-null  int64  \n",
      " 43  products_array          100000 non-null  object \n",
      " 44  has_converted           100000 non-null  int64  \n",
      " 45  target_date             100000 non-null  object \n",
      "dtypes: bool(3), float64(9), int64(21), object(13)\n",
      "memory usage: 33.1+ MB\n",
      "None\n",
      "(100000, 46)\n"
     ]
    }
   ],
   "source": [
    "print(df.info())\n",
    "print(df.shape)"
   ]
  },
  {
   "cell_type": "markdown",
   "metadata": {},
   "source": [
    "STATIC ANALYSIS"
   ]
  },
  {
   "cell_type": "code",
   "execution_count": 115,
   "metadata": {},
   "outputs": [],
   "source": [
    "from scipy.stats import ttest_ind\n",
    "from scipy.stats import chi2_contingency"
   ]
  },
  {
   "cell_type": "code",
   "execution_count": 116,
   "metadata": {},
   "outputs": [
    {
     "name": "stdout",
     "output_type": "stream",
     "text": [
      "T-Statistic: -101.68281986021069\n",
      "P-Value: 0.0\n"
     ]
    }
   ],
   "source": [
    "# T-Test for significance\n",
    "\n",
    "converted = df[df['has_converted'] == 1]['avg_session_time']\n",
    "not_converted = df[df['has_converted'] == 0]['avg_session_time']\n",
    "\n",
    "t_stat, p_value = ttest_ind(converted, not_converted, equal_var=False)\n",
    "\n",
    "print(\"T-Statistic:\", t_stat)\n",
    "print(\"P-Value:\", p_value)"
   ]
  },
  {
   "cell_type": "code",
   "execution_count": 117,
   "metadata": {},
   "outputs": [
    {
     "name": "stdout",
     "output_type": "stream",
     "text": [
      "Chi-Square Statistic: 3714.293608203444\n",
      "P-Value: 0.0\n"
     ]
    }
   ],
   "source": [
    "# Chi-Square Test for Independence\n",
    "\n",
    "observed = pd.crosstab(df['device_browser'], df['has_converted'])\n",
    "chi2_stat, p_value, dof, expected = chi2_contingency(observed)\n",
    "\n",
    "print(\"Chi-Square Statistic:\", chi2_stat)\n",
    "print(\"P-Value:\", p_value)"
   ]
  },
  {
   "cell_type": "code",
   "execution_count": 118,
   "metadata": {},
   "outputs": [
    {
     "name": "stdout",
     "output_type": "stream",
     "text": [
      "F-statistic: 63.92988303909886\n",
      "P-value: 1.3029201590503486e-15\n"
     ]
    }
   ],
   "source": [
    "from scipy.stats import f_oneway\n",
    "\n",
    "# Exclude the '(Other)' category from the analysis\n",
    "group1 = df[df['channelGrouping'] == 'Paid Search']['count_hit']\n",
    "group2 = df[df['channelGrouping'] == 'Display']['count_hit']\n",
    "\n",
    "f_stat, p_value = f_oneway(group1, group2)\n",
    "print(f\"F-statistic: {f_stat}\")\n",
    "print(f\"P-value: {p_value}\")"
   ]
  },
  {
   "cell_type": "code",
   "execution_count": 119,
   "metadata": {},
   "outputs": [
    {
     "name": "stdout",
     "output_type": "stream",
     "text": [
      "Group Sizes:\n",
      "Group A: 87948\n",
      "Group B: 12050\n"
     ]
    }
   ],
   "source": [
    "print(\"Group Sizes:\")\n",
    "print(\"Group A:\", len(group1))\n",
    "print(\"Group B:\", len(group2))"
   ]
  },
  {
   "cell_type": "code",
   "execution_count": 120,
   "metadata": {},
   "outputs": [
    {
     "name": "stdout",
     "output_type": "stream",
     "text": [
      "Distribution of channelGrouping:\n",
      "channelGrouping\n",
      "Paid Search    87948\n",
      "Display        12050\n",
      "(Other)            2\n",
      "Name: count, dtype: int64\n"
     ]
    }
   ],
   "source": [
    "print(\"Distribution of channelGrouping:\")\n",
    "print(df['channelGrouping'].value_counts())"
   ]
  },
  {
   "cell_type": "code",
   "execution_count": 121,
   "metadata": {},
   "outputs": [],
   "source": [
    "df.to_csv(\"df1.csv\",index= False)"
   ]
  },
  {
   "cell_type": "markdown",
   "metadata": {},
   "source": [
    "ENCIDING"
   ]
  },
  {
   "cell_type": "code",
   "execution_count": 207,
   "metadata": {},
   "outputs": [],
   "source": [
    "import pandas as pd"
   ]
  },
  {
   "cell_type": "code",
   "execution_count": 208,
   "metadata": {},
   "outputs": [
    {
     "data": {
      "text/html": [
       "<div>\n",
       "<style scoped>\n",
       "    .dataframe tbody tr th:only-of-type {\n",
       "        vertical-align: middle;\n",
       "    }\n",
       "\n",
       "    .dataframe tbody tr th {\n",
       "        vertical-align: top;\n",
       "    }\n",
       "\n",
       "    .dataframe thead th {\n",
       "        text-align: right;\n",
       "    }\n",
       "</style>\n",
       "<table border=\"1\" class=\"dataframe\">\n",
       "  <thead>\n",
       "    <tr style=\"text-align: right;\">\n",
       "      <th></th>\n",
       "      <th>count_session</th>\n",
       "      <th>count_hit</th>\n",
       "      <th>channelGrouping</th>\n",
       "      <th>totals_newVisits</th>\n",
       "      <th>device_browser</th>\n",
       "      <th>device_operatingSystem</th>\n",
       "      <th>device_isMobile</th>\n",
       "      <th>device_deviceCategory</th>\n",
       "      <th>geoNetwork_region</th>\n",
       "      <th>geoNetwork_latitude</th>\n",
       "      <th>...</th>\n",
       "      <th>latest_keyword</th>\n",
       "      <th>earliest_isTrueDirect</th>\n",
       "      <th>latest_isTrueDirect</th>\n",
       "      <th>num_interactions</th>\n",
       "      <th>bounces</th>\n",
       "      <th>time_on_site</th>\n",
       "      <th>transactionRevenue</th>\n",
       "      <th>products_array</th>\n",
       "      <th>has_converted</th>\n",
       "      <th>target_date</th>\n",
       "    </tr>\n",
       "  </thead>\n",
       "  <tbody>\n",
       "    <tr>\n",
       "      <th>0</th>\n",
       "      <td>9</td>\n",
       "      <td>1194</td>\n",
       "      <td>(Other)</td>\n",
       "      <td>0</td>\n",
       "      <td>GoogleAnalytics</td>\n",
       "      <td>Android</td>\n",
       "      <td>True</td>\n",
       "      <td>mobile</td>\n",
       "      <td>Sharjah</td>\n",
       "      <td>25.3463</td>\n",
       "      <td>...</td>\n",
       "      <td>(not set)</td>\n",
       "      <td>True</td>\n",
       "      <td>True</td>\n",
       "      <td>1900</td>\n",
       "      <td>0</td>\n",
       "      <td>5617</td>\n",
       "      <td>0</td>\n",
       "      <td>food////food////food</td>\n",
       "      <td>0</td>\n",
       "      <td>2021-01-01</td>\n",
       "    </tr>\n",
       "    <tr>\n",
       "      <th>1</th>\n",
       "      <td>9</td>\n",
       "      <td>1194</td>\n",
       "      <td>(Other)</td>\n",
       "      <td>0</td>\n",
       "      <td>GoogleAnalytics</td>\n",
       "      <td>Android</td>\n",
       "      <td>True</td>\n",
       "      <td>mobile</td>\n",
       "      <td>Sharjah</td>\n",
       "      <td>25.3463</td>\n",
       "      <td>...</td>\n",
       "      <td>(not set)</td>\n",
       "      <td>True</td>\n",
       "      <td>True</td>\n",
       "      <td>1900</td>\n",
       "      <td>0</td>\n",
       "      <td>5617</td>\n",
       "      <td>0</td>\n",
       "      <td>food////food////food</td>\n",
       "      <td>0</td>\n",
       "      <td>2021-01-01</td>\n",
       "    </tr>\n",
       "  </tbody>\n",
       "</table>\n",
       "<p>2 rows × 46 columns</p>\n",
       "</div>"
      ],
      "text/plain": [
       "   count_session  count_hit channelGrouping  totals_newVisits  \\\n",
       "0              9       1194         (Other)                 0   \n",
       "1              9       1194         (Other)                 0   \n",
       "\n",
       "    device_browser device_operatingSystem  device_isMobile  \\\n",
       "0  GoogleAnalytics                Android             True   \n",
       "1  GoogleAnalytics                Android             True   \n",
       "\n",
       "  device_deviceCategory geoNetwork_region  geoNetwork_latitude  ...  \\\n",
       "0                mobile           Sharjah              25.3463  ...   \n",
       "1                mobile           Sharjah              25.3463  ...   \n",
       "\n",
       "   latest_keyword  earliest_isTrueDirect  latest_isTrueDirect  \\\n",
       "0       (not set)                   True                 True   \n",
       "1       (not set)                   True                 True   \n",
       "\n",
       "   num_interactions  bounces  time_on_site  transactionRevenue  \\\n",
       "0              1900        0          5617                   0   \n",
       "1              1900        0          5617                   0   \n",
       "\n",
       "         products_array  has_converted  target_date  \n",
       "0  food////food////food              0   2021-01-01  \n",
       "1  food////food////food              0   2021-01-01  \n",
       "\n",
       "[2 rows x 46 columns]"
      ]
     },
     "execution_count": 208,
     "metadata": {},
     "output_type": "execute_result"
    }
   ],
   "source": [
    "df1=pd.read_csv(\"df1.csv\")\n",
    "df1.head(2)"
   ]
  },
  {
   "cell_type": "code",
   "execution_count": 124,
   "metadata": {},
   "outputs": [
    {
     "data": {
      "text/html": [
       "<div>\n",
       "<style scoped>\n",
       "    .dataframe tbody tr th:only-of-type {\n",
       "        vertical-align: middle;\n",
       "    }\n",
       "\n",
       "    .dataframe tbody tr th {\n",
       "        vertical-align: top;\n",
       "    }\n",
       "\n",
       "    .dataframe thead th {\n",
       "        text-align: right;\n",
       "    }\n",
       "</style>\n",
       "<table border=\"1\" class=\"dataframe\">\n",
       "  <thead>\n",
       "    <tr style=\"text-align: right;\">\n",
       "      <th></th>\n",
       "      <th>channelGrouping</th>\n",
       "      <th>device_browser</th>\n",
       "      <th>device_operatingSystem</th>\n",
       "      <th>device_deviceCategory</th>\n",
       "      <th>geoNetwork_region</th>\n",
       "      <th>earliest_source</th>\n",
       "      <th>latest_source</th>\n",
       "      <th>earliest_medium</th>\n",
       "      <th>latest_medium</th>\n",
       "      <th>earliest_keyword</th>\n",
       "      <th>latest_keyword</th>\n",
       "      <th>products_array</th>\n",
       "      <th>target_date</th>\n",
       "    </tr>\n",
       "  </thead>\n",
       "  <tbody>\n",
       "    <tr>\n",
       "      <th>0</th>\n",
       "      <td>(Other)</td>\n",
       "      <td>GoogleAnalytics</td>\n",
       "      <td>Android</td>\n",
       "      <td>mobile</td>\n",
       "      <td>Sharjah</td>\n",
       "      <td>gulfnews</td>\n",
       "      <td>gulfnews</td>\n",
       "      <td>app</td>\n",
       "      <td>app</td>\n",
       "      <td>(not set)</td>\n",
       "      <td>(not set)</td>\n",
       "      <td>food////food////food</td>\n",
       "      <td>2021-01-01</td>\n",
       "    </tr>\n",
       "    <tr>\n",
       "      <th>1</th>\n",
       "      <td>(Other)</td>\n",
       "      <td>GoogleAnalytics</td>\n",
       "      <td>Android</td>\n",
       "      <td>mobile</td>\n",
       "      <td>Sharjah</td>\n",
       "      <td>gulfnews</td>\n",
       "      <td>gulfnews</td>\n",
       "      <td>app</td>\n",
       "      <td>app</td>\n",
       "      <td>(not set)</td>\n",
       "      <td>(not set)</td>\n",
       "      <td>food////food////food</td>\n",
       "      <td>2021-01-01</td>\n",
       "    </tr>\n",
       "    <tr>\n",
       "      <th>2</th>\n",
       "      <td>Paid Search</td>\n",
       "      <td>GoogleAnalytics</td>\n",
       "      <td>Android</td>\n",
       "      <td>mobile</td>\n",
       "      <td>Ajman</td>\n",
       "      <td>(direct)</td>\n",
       "      <td>google</td>\n",
       "      <td>(none)</td>\n",
       "      <td>cpc</td>\n",
       "      <td>(not set)</td>\n",
       "      <td>(automatic matching)</td>\n",
       "      <td>(not set)////baby_products--milk,_food_&amp;_juice...</td>\n",
       "      <td>2021-01-01</td>\n",
       "    </tr>\n",
       "  </tbody>\n",
       "</table>\n",
       "</div>"
      ],
      "text/plain": [
       "  channelGrouping   device_browser device_operatingSystem  \\\n",
       "0         (Other)  GoogleAnalytics                Android   \n",
       "1         (Other)  GoogleAnalytics                Android   \n",
       "2     Paid Search  GoogleAnalytics                Android   \n",
       "\n",
       "  device_deviceCategory geoNetwork_region earliest_source latest_source  \\\n",
       "0                mobile           Sharjah        gulfnews      gulfnews   \n",
       "1                mobile           Sharjah        gulfnews      gulfnews   \n",
       "2                mobile             Ajman        (direct)        google   \n",
       "\n",
       "  earliest_medium latest_medium earliest_keyword        latest_keyword  \\\n",
       "0             app           app        (not set)             (not set)   \n",
       "1             app           app        (not set)             (not set)   \n",
       "2          (none)           cpc        (not set)  (automatic matching)   \n",
       "\n",
       "                                      products_array target_date  \n",
       "0                               food////food////food  2021-01-01  \n",
       "1                               food////food////food  2021-01-01  \n",
       "2  (not set)////baby_products--milk,_food_&_juice...  2021-01-01  "
      ]
     },
     "execution_count": 124,
     "metadata": {},
     "output_type": "execute_result"
    }
   ],
   "source": [
    "obje_col = df1.select_dtypes(include=['object'])\n",
    "obje_col.head(3)"
   ]
  },
  {
   "cell_type": "code",
   "execution_count": 125,
   "metadata": {},
   "outputs": [
    {
     "data": {
      "text/plain": [
       "Index(['channelGrouping', 'device_browser', 'device_operatingSystem',\n",
       "       'device_deviceCategory', 'geoNetwork_region', 'earliest_source',\n",
       "       'latest_source', 'earliest_medium', 'latest_medium', 'earliest_keyword',\n",
       "       'latest_keyword', 'products_array', 'target_date'],\n",
       "      dtype='object')"
      ]
     },
     "execution_count": 125,
     "metadata": {},
     "output_type": "execute_result"
    }
   ],
   "source": [
    "obje_col.columns"
   ]
  },
  {
   "cell_type": "code",
   "execution_count": 126,
   "metadata": {},
   "outputs": [
    {
     "name": "stdout",
     "output_type": "stream",
     "text": [
      " 'channelGrouping': 3\n",
      " 'device_browser': 9\n",
      " 'device_operatingSystem': 7\n",
      " 'device_deviceCategory': 3\n",
      " 'geoNetwork_region': 91\n",
      " 'earliest_source': 36\n",
      " 'latest_source': 7\n",
      " 'earliest_medium': 18\n",
      " 'latest_medium': 2\n",
      " 'earliest_keyword': 410\n",
      " 'latest_keyword': 572\n",
      " 'products_array': 3559\n",
      " 'target_date': 1\n"
     ]
    }
   ],
   "source": [
    "# cat col unique val\n",
    "for column in obje_col.columns:\n",
    "    unique_values = df1[column].unique()\n",
    "    unique_sum = len(unique_values)\n",
    "    print(f\" '{column}': {unique_sum}\")"
   ]
  },
  {
   "cell_type": "code",
   "execution_count": 127,
   "metadata": {},
   "outputs": [
    {
     "data": {
      "text/plain": [
       "array(['food////food////food',\n",
       "       '(not set)////baby_products--milk,_food_&_juices--baby_&_toddler_formula--baby_formula_(6-12_years)////baby_products--milk,_food_&_juices--baby_&_toddler_formula--baby_formula_(1-6_years)////food////food////food////food////food////food////food////food////food////food////food////food////food////food////food////food////food////(not set)////(not set)////baby_products--milk,_food_&_juices--baby_&_toddler_formula--baby_formula_(6-12_years)////food////(not set)////(not set)////food////food////food////food////food////baby_products--milk,_food_&_juices--baby_&_toddler_formula--baby_formula_(6-12_years)////food////food////food////baby_products--milk,_food_&_juices--baby_&_toddler_formula--baby_formula_(6-12_years)////food////food////food////food////food////food////food////food////food////food////food////food////food////food////food////food////food////food////food////food////food////food////food////food////food////food////food////food////food////food////food////food////food////food////food',\n",
       "       'food////food', ...,\n",
       "       'baby_products--milk,_food_&_juices--baby_&_toddler_formula--baby_formula_(1-6_years)////baby_products--milk,_food_&_juices--baby_&_toddler_formula--baby_formula_(1-6_years)////baby_products--milk,_food_&_juices--baby_&_toddler_formula--baby_formula_(1-6_years)////baby_products--changing_&_bathing--diapers,_wipes_&_diaper_cream--baby_wipes_family_pack',\n",
       "       'baby_products--changing_&_bathing--diapers,_wipes_&_diaper_cream--baby_diapers////(not set)////baby_products--changing_&_bathing--diapers,_wipes_&_diaper_cream--baby_diapers////(not set)////(not set)////(not set)////(not set)',\n",
       "       'baby_products--changing_&_bathing--diapers,_wipes_&_diaper_cream--baby_diapers////baby_products--milk,_food_&_juices--baby_&_toddler_formula--baby_formula_(0-6_months)////baby_products--changing_&_bathing--pull-ups_&_swimming_pants--baby_pants////baby_products--changing_&_bathing--diapers,_wipes_&_diaper_cream--baby_diapers////baby_products--changing_&_bathing--pull-ups_&_swimming_pants--baby_pants'],\n",
       "      dtype=object)"
      ]
     },
     "execution_count": 127,
     "metadata": {},
     "output_type": "execute_result"
    }
   ],
   "source": [
    "obje_col['products_array'].unique()"
   ]
  },
  {
   "cell_type": "code",
   "execution_count": 128,
   "metadata": {},
   "outputs": [],
   "source": [
    "from sklearn.preprocessing import OrdinalEncoder"
   ]
  },
  {
   "cell_type": "code",
   "execution_count": 129,
   "metadata": {},
   "outputs": [
    {
     "data": {
      "text/plain": [
       "array(['GoogleAnalytics', 'Safari', 'Chrome', 'Edge', 'Firefox',\n",
       "       'Samsung Internet', 'Opera', 'Android Webview',\n",
       "       'Apache-HttpClient'], dtype=object)"
      ]
     },
     "execution_count": 129,
     "metadata": {},
     "output_type": "execute_result"
    }
   ],
   "source": [
    "df1['device_browser'].unique()"
   ]
  },
  {
   "cell_type": "code",
   "execution_count": 130,
   "metadata": {},
   "outputs": [],
   "source": [
    "# Assuming 'device_browser' is the name of the column you want to convert\n",
    "browser_mapping = {'GoogleAnalytics': 1, 'Safari': 2, 'Chrome': 3, 'Edge': 4, 'Firefox': 5, 'Samsung Internet': 6, 'Opera': 7,\n",
    "                   'Android Webview': 8, 'Apache-HttpClient': 9}\n",
    "\n",
    "df1['device_browser'] = df1['device_browser'].map(browser_mapping)\n"
   ]
  },
  {
   "cell_type": "code",
   "execution_count": 131,
   "metadata": {},
   "outputs": [
    {
     "data": {
      "text/plain": [
       "array([1, 2, 3, 4, 5, 6, 7, 8, 9], dtype=int64)"
      ]
     },
     "execution_count": 131,
     "metadata": {},
     "output_type": "execute_result"
    }
   ],
   "source": [
    "df1['device_browser'].unique()"
   ]
  },
  {
   "cell_type": "code",
   "execution_count": 132,
   "metadata": {},
   "outputs": [
    {
     "data": {
      "text/plain": [
       "array(['gulfnews', 'google', 'Pricena_AE', 'facebook', 'criteo', 'yaoota',\n",
       "       'Pricena_AE_Home'], dtype=object)"
      ]
     },
     "execution_count": 132,
     "metadata": {},
     "output_type": "execute_result"
    }
   ],
   "source": [
    "df1['latest_source'].unique()"
   ]
  },
  {
   "cell_type": "code",
   "execution_count": 133,
   "metadata": {},
   "outputs": [],
   "source": [
    "# Assuming 'latest_source' is the name of the column you want to convert\n",
    "source_mapping = {'gulfnews': 1, 'google': 2, 'Pricena_AE': 3, 'facebook': 4, 'criteo': 5,\n",
    "                  'yaoota': 6, 'Pricena_AE_Home': 7}\n",
    "df1['latest_source'] = df1['latest_source'].map(source_mapping)"
   ]
  },
  {
   "cell_type": "code",
   "execution_count": 134,
   "metadata": {},
   "outputs": [
    {
     "data": {
      "text/plain": [
       "array(['Sharjah', 'Ajman', 'Abu Dhabi', 'Dubai', 'Ras al Khaimah',\n",
       "       '(not set)', 'England', 'Hessen', 'Ash Sharqia Governorate',\n",
       "       'Nabatiyeh Governorate', 'Umm Al Quawain', 'Indiana', 'Illinois',\n",
       "       'Makkah Province', 'Maharashtra', 'Capital Governorate', 'Jakarta',\n",
       "       'Punjab', 'Mount Lebanon Governorate', 'South Holland',\n",
       "       'Riyadh Province', 'Ile-de-France', 'Chandigarh', 'Karnataka',\n",
       "       'Istanbul', 'Cairo Governorate', 'Andhra Pradesh',\n",
       "       'Amman Governorate', 'Beirut Governorate',\n",
       "       'Alexandria Governorate', 'New York', 'Ontario', 'Davao Region',\n",
       "       'Auvergne-Rhone-Alpes', 'Fujairah', 'Tamil Nadu',\n",
       "       'Pays de la Loire', 'Metro Manila', 'Normandy', 'Giza Governorate',\n",
       "       'Bavaria', 'Stockholm County', 'Tel Aviv District', 'Vienna',\n",
       "       'Decentralized Administration of Peloponnese, Western Greece and the Ionian',\n",
       "       'Porto District', 'West Bengal', 'Kerala', 'Lombardy', 'MIMAROPA',\n",
       "       'North Holland', 'Chiba', 'Islamabad Capital Territory', 'Ohio',\n",
       "       'Florida', 'Moscow', 'County Dublin', 'Quebec',\n",
       "       'Muscat Governorate', 'Telangana', 'Vastra Gotaland County',\n",
       "       'Western Cape', 'North Rhine-Westphalia', 'Sindh', 'Virginia',\n",
       "       'Calabarzon', 'Shanghai', 'Central Luzon', 'Dakahlia Governorate',\n",
       "       'Western Province', 'Flanders', 'Fars', 'Washington',\n",
       "       'Tashkent Region', 'Eastern Province',\n",
       "       'Federal Territory of Kuala Lumpur', 'Goa', 'Southern Governorate',\n",
       "       'Madhya Pradesh', 'Ismailia Governorate', 'Uttar Pradesh',\n",
       "       'Casablanca-Settat', 'Nairobi County', 'Sofala Province', 'Attica',\n",
       "       'Tokyo', 'Khyber Pakhtunkhwa', 'Gujarat', 'Assam', 'Brittany',\n",
       "       'Centre-Val de Loire'], dtype=object)"
      ]
     },
     "execution_count": 134,
     "metadata": {},
     "output_type": "execute_result"
    }
   ],
   "source": [
    "df1['geoNetwork_region'].unique()"
   ]
  },
  {
   "cell_type": "code",
   "execution_count": 135,
   "metadata": {},
   "outputs": [],
   "source": [
    "df1['geoNetwork_region'] = df1['geoNetwork_region'].astype('category').cat.codes"
   ]
  },
  {
   "cell_type": "code",
   "execution_count": 136,
   "metadata": {},
   "outputs": [
    {
     "data": {
      "text/plain": [
       "array([71,  2,  1, 25, 68,  0, 27, 36,  6, 56, 82, 39, 38, 51, 50, 15, 43,\n",
       "       66, 54, 74, 69, 37, 19, 44, 42, 13,  5,  4, 11,  3, 58, 63, 23,  9,\n",
       "       32, 77, 64, 52, 59, 33, 10, 76, 79, 85, 24, 65, 88, 45, 47, 48, 60,\n",
       "       20, 40, 62, 31, 53, 21, 67, 55, 80, 84, 89, 61, 72, 86, 14, 70, 17,\n",
       "       22, 90, 30, 28, 87, 78, 26, 29, 34, 75, 49, 41, 83, 16, 57, 73,  8,\n",
       "       81, 46, 35,  7, 12, 18], dtype=int8)"
      ]
     },
     "execution_count": 136,
     "metadata": {},
     "output_type": "execute_result"
    }
   ],
   "source": [
    "df1['geoNetwork_region'].unique()"
   ]
  },
  {
   "cell_type": "code",
   "execution_count": 137,
   "metadata": {},
   "outputs": [],
   "source": [
    "# 'earliest_medium'\n",
    "df1['earliest_medium'] = df1['earliest_medium'].astype('category').cat.codes\n",
    "\n",
    "# 'earliest_keyword'\n",
    "df1['earliest_keyword'] = df1['earliest_keyword'].astype('category').cat.codes\n",
    "\n",
    "# 'latest_keyword'\n",
    "df1['latest_keyword'] = df1['latest_keyword'].astype('category').cat.codes\n",
    "\n",
    "# 'latest_keyword'\n",
    "df1['earliest_source'] = df1['earliest_source'].astype('category').cat.codes\n"
   ]
  },
  {
   "cell_type": "code",
   "execution_count": 138,
   "metadata": {},
   "outputs": [
    {
     "data": {
      "text/plain": [
       "array(['food////food////food',\n",
       "       '(not set)////baby_products--milk,_food_&_juices--baby_&_toddler_formula--baby_formula_(6-12_years)////baby_products--milk,_food_&_juices--baby_&_toddler_formula--baby_formula_(1-6_years)////food////food////food////food////food////food////food////food////food////food////food////food////food////food////food////food////food////(not set)////(not set)////baby_products--milk,_food_&_juices--baby_&_toddler_formula--baby_formula_(6-12_years)////food////(not set)////(not set)////food////food////food////food////food////baby_products--milk,_food_&_juices--baby_&_toddler_formula--baby_formula_(6-12_years)////food////food////food////baby_products--milk,_food_&_juices--baby_&_toddler_formula--baby_formula_(6-12_years)////food////food////food////food////food////food////food////food////food////food////food////food////food////food////food////food////food////food////food////food////food////food////food////food////food////food////food////food////food////food////food////food////food////food////food',\n",
       "       'food////food', ...,\n",
       "       'baby_products--milk,_food_&_juices--baby_&_toddler_formula--baby_formula_(1-6_years)////baby_products--milk,_food_&_juices--baby_&_toddler_formula--baby_formula_(1-6_years)////baby_products--milk,_food_&_juices--baby_&_toddler_formula--baby_formula_(1-6_years)////baby_products--changing_&_bathing--diapers,_wipes_&_diaper_cream--baby_wipes_family_pack',\n",
       "       'baby_products--changing_&_bathing--diapers,_wipes_&_diaper_cream--baby_diapers////(not set)////baby_products--changing_&_bathing--diapers,_wipes_&_diaper_cream--baby_diapers////(not set)////(not set)////(not set)////(not set)',\n",
       "       'baby_products--changing_&_bathing--diapers,_wipes_&_diaper_cream--baby_diapers////baby_products--milk,_food_&_juices--baby_&_toddler_formula--baby_formula_(0-6_months)////baby_products--changing_&_bathing--pull-ups_&_swimming_pants--baby_pants////baby_products--changing_&_bathing--diapers,_wipes_&_diaper_cream--baby_diapers////baby_products--changing_&_bathing--pull-ups_&_swimming_pants--baby_pants'],\n",
       "      dtype=object)"
      ]
     },
     "execution_count": 138,
     "metadata": {},
     "output_type": "execute_result"
    }
   ],
   "source": [
    "df1['products_array'].unique()"
   ]
  },
  {
   "cell_type": "code",
   "execution_count": 139,
   "metadata": {},
   "outputs": [],
   "source": [
    "# 'latest_keyword'\n",
    "df1['products_array'] = df1['products_array'].astype('category').cat.codes"
   ]
  },
  {
   "cell_type": "code",
   "execution_count": 140,
   "metadata": {},
   "outputs": [
    {
     "data": {
      "text/plain": [
       "array([2265,  898, 2234, ..., 1984, 1225, 1353], dtype=int16)"
      ]
     },
     "execution_count": 140,
     "metadata": {},
     "output_type": "execute_result"
    }
   ],
   "source": [
    "df1['products_array'].unique()"
   ]
  },
  {
   "cell_type": "code",
   "execution_count": 141,
   "metadata": {},
   "outputs": [
    {
     "data": {
      "text/plain": [
       "array(['mobile', 'desktop', 'tablet'], dtype=object)"
      ]
     },
     "execution_count": 141,
     "metadata": {},
     "output_type": "execute_result"
    }
   ],
   "source": [
    "df1['device_deviceCategory'].unique()"
   ]
  },
  {
   "cell_type": "code",
   "execution_count": 142,
   "metadata": {},
   "outputs": [],
   "source": [
    "# convert through Encodeing\n",
    "df1[\"device_deviceCategory\"]= df1[\"device_deviceCategory\"].map({'mobile':1, 'desktop':2, 'tablet':3})"
   ]
  },
  {
   "cell_type": "code",
   "execution_count": 143,
   "metadata": {},
   "outputs": [
    {
     "data": {
      "text/plain": [
       "array(['app', 'cpc'], dtype=object)"
      ]
     },
     "execution_count": 143,
     "metadata": {},
     "output_type": "execute_result"
    }
   ],
   "source": [
    "df1['latest_medium'].unique()"
   ]
  },
  {
   "cell_type": "code",
   "execution_count": 144,
   "metadata": {},
   "outputs": [],
   "source": [
    "# convert through Encodeing\n",
    "df1[\"latest_medium\"]= df1[\"latest_medium\"].map({'app':1, 'cpc':2})"
   ]
  },
  {
   "cell_type": "code",
   "execution_count": 145,
   "metadata": {},
   "outputs": [
    {
     "data": {
      "text/plain": [
       "0        2021-01-01\n",
       "1        2021-01-01\n",
       "2        2021-01-01\n",
       "3        2021-01-01\n",
       "4        2021-01-01\n",
       "            ...    \n",
       "99995    2021-01-01\n",
       "99996    2021-01-01\n",
       "99997    2021-01-01\n",
       "99998    2021-01-01\n",
       "99999    2021-01-01\n",
       "Name: target_date, Length: 100000, dtype: object"
      ]
     },
     "execution_count": 145,
     "metadata": {},
     "output_type": "execute_result"
    }
   ],
   "source": [
    "df1['target_date']"
   ]
  },
  {
   "cell_type": "code",
   "execution_count": 146,
   "metadata": {},
   "outputs": [
    {
     "data": {
      "text/plain": [
       "0       2021-01-01\n",
       "1       2021-01-01\n",
       "2       2021-01-01\n",
       "3       2021-01-01\n",
       "4       2021-01-01\n",
       "           ...    \n",
       "99995   2021-01-01\n",
       "99996   2021-01-01\n",
       "99997   2021-01-01\n",
       "99998   2021-01-01\n",
       "99999   2021-01-01\n",
       "Name: target_date, Length: 100000, dtype: datetime64[ns]"
      ]
     },
     "execution_count": 146,
     "metadata": {},
     "output_type": "execute_result"
    }
   ],
   "source": [
    "# Assuming 'column_name' is the name of the column you want to convert to datetime\n",
    "df1['target_date'] = pd.to_datetime(df1['target_date'], errors='coerce')\n",
    "\n",
    "df['target_date'] = pd.to_datetime(df['target_date'], format='%Y-%m-%d', errors='coerce')\n",
    "df['target_date']"
   ]
  },
  {
   "cell_type": "code",
   "execution_count": 147,
   "metadata": {},
   "outputs": [
    {
     "data": {
      "text/plain": [
       "array(['(Other)', 'Paid Search', 'Display'], dtype=object)"
      ]
     },
     "execution_count": 147,
     "metadata": {},
     "output_type": "execute_result"
    }
   ],
   "source": [
    "df1['channelGrouping'].unique()"
   ]
  },
  {
   "cell_type": "code",
   "execution_count": 148,
   "metadata": {},
   "outputs": [],
   "source": [
    "# convert through Encodeing\n",
    "df1[\"channelGrouping\"]= df1[\"channelGrouping\"].map({'other':1, 'Paid Search':2, 'Display':3})"
   ]
  },
  {
   "cell_type": "code",
   "execution_count": 149,
   "metadata": {},
   "outputs": [
    {
     "data": {
      "text/plain": [
       "array([nan,  2.,  3.])"
      ]
     },
     "execution_count": 149,
     "metadata": {},
     "output_type": "execute_result"
    }
   ],
   "source": [
    "df1['channelGrouping'].unique()"
   ]
  },
  {
   "cell_type": "code",
   "execution_count": 150,
   "metadata": {},
   "outputs": [
    {
     "data": {
      "text/plain": [
       "array(['Android', 'iOS', 'Macintosh', 'Windows', 'Chrome OS', '(not set)',\n",
       "       'Linux'], dtype=object)"
      ]
     },
     "execution_count": 150,
     "metadata": {},
     "output_type": "execute_result"
    }
   ],
   "source": [
    "df1['device_operatingSystem'].unique()"
   ]
  },
  {
   "cell_type": "code",
   "execution_count": 151,
   "metadata": {},
   "outputs": [],
   "source": [
    "# convert through Encodeing\n",
    "df1[\"device_operatingSystem\"]= df1[\"device_operatingSystem\"].map({'Android':1, 'iOS':2, 'Macintosh':3, 'Windows':0, 'Chrome OS':4,\n",
    "                                '(not set)':5, 'Linux':6})"
   ]
  },
  {
   "cell_type": "code",
   "execution_count": 152,
   "metadata": {},
   "outputs": [
    {
     "data": {
      "text/plain": [
       "array([1, 2, 3, 0, 4, 5, 6], dtype=int64)"
      ]
     },
     "execution_count": 152,
     "metadata": {},
     "output_type": "execute_result"
    }
   ],
   "source": [
    "df1['device_operatingSystem'].unique()"
   ]
  },
  {
   "cell_type": "code",
   "execution_count": 153,
   "metadata": {},
   "outputs": [
    {
     "data": {
      "text/plain": [
       "Index(['count_session', 'count_hit', 'channelGrouping', 'totals_newVisits',\n",
       "       'device_browser', 'device_operatingSystem', 'device_isMobile',\n",
       "       'device_deviceCategory', 'geoNetwork_region', 'geoNetwork_latitude',\n",
       "       'geoNetwork_longitude', 'historic_session', 'historic_session_page',\n",
       "       'youtube', 'avg_session_time', 'avg_session_time_page',\n",
       "       'single_page_rate', 'sessionQualityDim', 'last_visitId',\n",
       "       'latest_visit_id', 'visitId_threshold', 'earliest_visit_id',\n",
       "       'earliest_visit_number', 'latest_visit_number', 'time_earliest_visit',\n",
       "       'time_latest_visit', 'avg_visit_time', 'days_since_last_visit',\n",
       "       'days_since_first_visit', 'visits_per_day', 'bounce_rate',\n",
       "       'earliest_source', 'latest_source', 'earliest_medium', 'latest_medium',\n",
       "       'earliest_keyword', 'latest_keyword', 'earliest_isTrueDirect',\n",
       "       'latest_isTrueDirect', 'num_interactions', 'bounces', 'time_on_site',\n",
       "       'transactionRevenue', 'products_array', 'has_converted', 'target_date'],\n",
       "      dtype='object')"
      ]
     },
     "execution_count": 153,
     "metadata": {},
     "output_type": "execute_result"
    }
   ],
   "source": [
    "df1.columns"
   ]
  },
  {
   "cell_type": "code",
   "execution_count": 154,
   "metadata": {},
   "outputs": [
    {
     "name": "stdout",
     "output_type": "stream",
     "text": [
      "<class 'pandas.core.frame.DataFrame'>\n",
      "RangeIndex: 100000 entries, 0 to 99999\n",
      "Data columns (total 46 columns):\n",
      " #   Column                  Non-Null Count   Dtype         \n",
      "---  ------                  --------------   -----         \n",
      " 0   count_session           100000 non-null  int64         \n",
      " 1   count_hit               100000 non-null  int64         \n",
      " 2   channelGrouping         99998 non-null   float64       \n",
      " 3   totals_newVisits        100000 non-null  int64         \n",
      " 4   device_browser          100000 non-null  int64         \n",
      " 5   device_operatingSystem  100000 non-null  int64         \n",
      " 6   device_isMobile         100000 non-null  bool          \n",
      " 7   device_deviceCategory   100000 non-null  int64         \n",
      " 8   geoNetwork_region       100000 non-null  int8          \n",
      " 9   geoNetwork_latitude     100000 non-null  float64       \n",
      " 10  geoNetwork_longitude    100000 non-null  float64       \n",
      " 11  historic_session        100000 non-null  int64         \n",
      " 12  historic_session_page   100000 non-null  int64         \n",
      " 13  youtube                 100000 non-null  int64         \n",
      " 14  avg_session_time        100000 non-null  float64       \n",
      " 15  avg_session_time_page   100000 non-null  float64       \n",
      " 16  single_page_rate        100000 non-null  float64       \n",
      " 17  sessionQualityDim       100000 non-null  int64         \n",
      " 18  last_visitId            100000 non-null  int64         \n",
      " 19  latest_visit_id         100000 non-null  int64         \n",
      " 20  visitId_threshold       100000 non-null  int64         \n",
      " 21  earliest_visit_id       100000 non-null  int64         \n",
      " 22  earliest_visit_number   100000 non-null  int64         \n",
      " 23  latest_visit_number     100000 non-null  int64         \n",
      " 24  time_earliest_visit     100000 non-null  float64       \n",
      " 25  time_latest_visit       100000 non-null  float64       \n",
      " 26  avg_visit_time          100000 non-null  int64         \n",
      " 27  days_since_last_visit   100000 non-null  int64         \n",
      " 28  days_since_first_visit  100000 non-null  int64         \n",
      " 29  visits_per_day          100000 non-null  float64       \n",
      " 30  bounce_rate             100000 non-null  float64       \n",
      " 31  earliest_source         100000 non-null  int8          \n",
      " 32  latest_source           100000 non-null  int64         \n",
      " 33  earliest_medium         100000 non-null  int8          \n",
      " 34  latest_medium           100000 non-null  int64         \n",
      " 35  earliest_keyword        100000 non-null  int16         \n",
      " 36  latest_keyword          100000 non-null  int16         \n",
      " 37  earliest_isTrueDirect   100000 non-null  bool          \n",
      " 38  latest_isTrueDirect     100000 non-null  bool          \n",
      " 39  num_interactions        100000 non-null  int64         \n",
      " 40  bounces                 100000 non-null  int64         \n",
      " 41  time_on_site            100000 non-null  int64         \n",
      " 42  transactionRevenue      100000 non-null  int64         \n",
      " 43  products_array          100000 non-null  int16         \n",
      " 44  has_converted           100000 non-null  int64         \n",
      " 45  target_date             100000 non-null  datetime64[ns]\n",
      "dtypes: bool(3), datetime64[ns](1), float64(10), int16(3), int64(26), int8(3)\n",
      "memory usage: 29.4 MB\n"
     ]
    }
   ],
   "source": [
    "df1.info()"
   ]
  },
  {
   "cell_type": "markdown",
   "metadata": {},
   "source": [
    "binning and Discretization of this columns. Because its have huge level of uniques values."
   ]
  },
  {
   "cell_type": "code",
   "execution_count": null,
   "metadata": {},
   "outputs": [],
   "source": [
    "import pandas as pd\n",
    "\n",
    "# Assuming df1 is your DataFrame containing the data\n",
    "bins = {\n",
    "    'avg_session_time': [0, 1000, 5000, float('inf')],  # Define your bins for avg_session_time\n",
    "    'count_hit': [0, 100, 1000, float('inf')],          # Define your bins for count_hit\n",
    "    'num_interactions': [0, 1000, 5000, float('inf')]   # Define your bins for num_interactions\n",
    "}\n",
    "\n",
    "labels = ['low', 'medium', 'high']  # Define labels for each bin\n",
    "\n",
    "# Bin the numerical columns\n",
    "for column, bin_edges in bins.items():\n",
    "    df1[column + '_binned'] = pd.cut(df1[column], bins=bin_edges, labels=labels, right=False)\n",
    "\n",
    "# Drop the original numerical columns\n",
    "df1.drop(columns=['avg_session_time', 'avg_session_time', 'num_interactions'], inplace=True)\n",
    "\n",
    "# Display the modified DataFrame\n",
    "print(df1)\n"
   ]
  },
  {
   "cell_type": "code",
   "execution_count": 156,
   "metadata": {},
   "outputs": [
    {
     "data": {
      "text/plain": [
       "['low', 'medium', 'high']\n",
       "Categories (3, object): ['low' < 'medium' < 'high']"
      ]
     },
     "execution_count": 156,
     "metadata": {},
     "output_type": "execute_result"
    }
   ],
   "source": [
    "df1['avg_session_time_binned'].unique()"
   ]
  },
  {
   "cell_type": "code",
   "execution_count": 157,
   "metadata": {},
   "outputs": [
    {
     "data": {
      "text/plain": [
       "['high', 'medium', 'low']\n",
       "Categories (3, object): ['low' < 'medium' < 'high']"
      ]
     },
     "execution_count": 157,
     "metadata": {},
     "output_type": "execute_result"
    }
   ],
   "source": [
    "df1['count_hit_binned'].unique()"
   ]
  },
  {
   "cell_type": "code",
   "execution_count": 158,
   "metadata": {},
   "outputs": [
    {
     "data": {
      "text/plain": [
       "['medium', 'low', 'high']\n",
       "Categories (3, object): ['low' < 'medium' < 'high']"
      ]
     },
     "execution_count": 158,
     "metadata": {},
     "output_type": "execute_result"
    }
   ],
   "source": [
    "df1['num_interactions_binned'].unique()"
   ]
  },
  {
   "cell_type": "code",
   "execution_count": 161,
   "metadata": {},
   "outputs": [],
   "source": [
    "df1[\"avg_session_time_binned\"]= df1[\"avg_session_time_binned\"].map({'low':1, 'medium':2, 'high':3})\n",
    "df1[\"count_hit_binned\"]= df1[\"count_hit_binned\"].map({'low':1, 'medium':2, 'high':3})\n",
    "df1[\"num_interactions_binned\"]= df1[\"num_interactions_binned\"].map({'low':1, 'medium':2, 'high':3})\n"
   ]
  },
  {
   "cell_type": "code",
   "execution_count": 209,
   "metadata": {},
   "outputs": [
    {
     "data": {
      "text/plain": [
       "0         6\n",
       "1         6\n",
       "2         4\n",
       "3        42\n",
       "4        42\n",
       "         ..\n",
       "99995    11\n",
       "99996    11\n",
       "99997    11\n",
       "99998    11\n",
       "99999    11\n",
       "Name: sessionQualityDim, Length: 100000, dtype: int64"
      ]
     },
     "execution_count": 209,
     "metadata": {},
     "output_type": "execute_result"
    }
   ],
   "source": [
    "df1[\"sessionQualityDim\"]"
   ]
  },
  {
   "cell_type": "code",
   "execution_count": 210,
   "metadata": {},
   "outputs": [
    {
     "data": {
      "text/plain": [
       "array([0.77777778, 0.82142857, 1.        , 0.4       , 0.98701299,\n",
       "       0.92857143, 0.96296296, 0.75      , 0.25      , 0.66666667,\n",
       "       0.83673469, 0.175     , 0.88888889, 0.86363636, 0.73913043,\n",
       "       0.97058824, 0.98507463, 0.91428571, 0.625     , 0.        ,\n",
       "       0.14285714, 0.93333333, 0.97368421, 0.71428571, 0.8       ,\n",
       "       0.93589744, 0.81818182, 0.94444444, 0.5       , 0.90909091,\n",
       "       0.33333333, 0.83333333, 0.9       , 0.6       , 0.97560976,\n",
       "       0.89473684, 0.96666667, 0.41666667, 0.63157895, 0.125     ,\n",
       "       0.95238095, 0.76923077, 0.16666667, 0.94814815, 0.78571429,\n",
       "       0.94117647, 0.95833333, 0.92307692, 0.88235294, 0.76470588,\n",
       "       0.96551724, 0.80645161, 0.58823529, 0.28571429, 0.95      ,\n",
       "       0.85714286, 0.61111111, 0.93181818, 0.2       , 0.78787879,\n",
       "       0.63333333, 0.88461538, 0.93548387, 0.97727273, 0.76296296,\n",
       "       0.95918367, 0.875     , 0.98113208, 0.36363636, 0.95454545,\n",
       "       0.87037037, 0.7       , 0.94736842, 0.95652174, 0.94366197,\n",
       "       0.11111111, 0.91525424, 0.78947368, 0.34615385, 0.77419355,\n",
       "       0.72916667, 0.95384615, 0.91304348, 0.64285714, 0.45454545,\n",
       "       0.89189189, 0.97297297, 0.46875   , 0.99310345, 0.93103448,\n",
       "       0.73076923, 0.97709924, 0.91666667, 0.05882353, 0.96491228,\n",
       "       0.96153846, 0.22222222, 0.94074074, 0.9787234 , 0.02272727,\n",
       "       0.98360656, 0.9375    , 0.91780822, 0.68181818, 0.70588235,\n",
       "       0.87096774, 0.84210526, 0.61764706, 0.55555556, 0.08      ,\n",
       "       0.86885246, 0.84615385, 0.984375  , 0.0952381 , 0.96774194,\n",
       "       0.8974359 , 0.96428571, 0.90697674, 0.63636364, 0.94358974,\n",
       "       0.64705882, 0.95348837, 0.86956522, 0.91891892, 0.92      ,\n",
       "       0.81481481, 0.94339623, 0.44067797, 0.46153846, 0.6875    ,\n",
       "       0.96610169, 0.71186441, 0.95555556, 0.89285714, 0.94871795,\n",
       "       0.80952381, 0.93939394, 0.90243902, 0.96      , 0.92592593,\n",
       "       0.96969697, 0.89090909, 0.76190476, 0.26315789, 0.82978723,\n",
       "       0.94594595, 0.95522388, 0.97777778, 0.51851852, 0.98717949,\n",
       "       0.88157895, 0.8125    , 0.85185185, 0.7826087 , 0.83783784,\n",
       "       0.85      , 0.90425532, 0.62962963, 0.42857143, 0.88571429,\n",
       "       0.97478992, 0.97674419, 0.96875   , 0.84      , 0.86666667,\n",
       "       0.89795918, 0.91176471, 0.98076923, 0.82      , 0.86046512,\n",
       "       0.72      , 0.89655172, 0.85294118, 0.7037037 , 0.70833333,\n",
       "       0.72222222, 0.92682927, 0.30769231, 0.7027027 , 0.82608696,\n",
       "       0.69230769, 0.79166667, 0.62068966, 0.9245283 , 0.27272727,\n",
       "       0.82352941, 0.725     , 0.27027027, 0.05      , 0.76744186,\n",
       "       0.58333333, 0.9047619 , 0.92156863, 0.90163934, 0.98      ,\n",
       "       0.79310345, 0.95744681, 0.73333333, 0.95588235, 0.90196078,\n",
       "       0.88      , 0.98571429, 0.97802198, 0.56756757, 0.5625    ,\n",
       "       0.65217391, 0.98387097, 0.72727273, 0.73684211, 0.88095238,\n",
       "       0.99056604, 0.95121951, 0.91836735, 0.48387097, 0.97222222,\n",
       "       0.94285714, 0.96363636, 0.74603175, 0.61538462, 0.3       ,\n",
       "       0.47058824, 0.88679245, 0.61904762, 0.45      , 0.60606061,\n",
       "       0.57692308, 0.67567568, 0.94186047, 0.54545455, 0.57142857,\n",
       "       0.53333333, 0.31578947, 0.88636364, 0.94666667, 0.375     ,\n",
       "       0.68      , 0.975     , 0.84375   , 0.36      , 0.77272727,\n",
       "       0.90322581, 0.57894737, 0.86792453, 0.97435897, 0.94382022,\n",
       "       0.98901099, 0.58064516, 0.92105263, 0.86842105, 0.38461538,\n",
       "       0.97468354, 0.69387755, 0.80555556, 0.99065421, 0.97916667,\n",
       "       0.88732394, 0.99367089, 0.92957746, 0.97183099, 0.97      ,\n",
       "       0.90140845, 0.89130435, 0.46666667, 0.52941176, 0.97142857,\n",
       "       0.925     , 0.59574468, 0.90566038, 0.98412698, 0.8452381 ,\n",
       "       0.59259259, 0.85416667, 0.96226415, 0.45945946, 0.22580645,\n",
       "       0.74074074, 0.98863636, 0.68421053, 0.93478261, 0.80165289,\n",
       "       0.98245614, 0.68085106, 0.21428571, 0.92537313, 0.78688525,\n",
       "       0.54054054, 0.87878788, 0.86111111, 0.79487179, 0.96721311,\n",
       "       0.98837209, 0.87341772, 0.84313725, 0.26470588, 0.25925926,\n",
       "       0.83962264, 0.8245614 , 0.23529412, 0.16      , 0.86      ,\n",
       "       0.92982456, 0.88405797, 0.73529412, 0.97619048, 0.20833333,\n",
       "       0.74545455, 0.90625   , 0.89873418, 0.89855072, 0.97826087,\n",
       "       0.94520548, 0.24324324, 0.83908046, 0.73015873, 0.75609756,\n",
       "       0.96703297, 0.47619048, 0.8372093 , 0.75862069, 0.65      ,\n",
       "       0.09090909, 0.59090909, 0.71830986, 0.92063492, 0.93023256,\n",
       "       0.83018868, 0.97959184, 0.94642857, 0.65384615, 0.13333333,\n",
       "       0.92783505, 0.5862069 , 0.98333333, 0.44444444, 0.21875   ,\n",
       "       0.91269841, 0.17021277, 0.13636364, 0.64150943, 0.82926829,\n",
       "       0.87301587, 0.77966102, 0.80769231, 0.97014925, 0.74358974,\n",
       "       0.81034483, 0.93650794, 0.69565217, 0.0625    , 0.7972973 ,\n",
       "       0.98461538, 0.90740741, 0.67857143, 0.78      , 0.81355932,\n",
       "       0.75757576, 0.89393939, 0.5483871 , 0.8852459 , 0.18181818,\n",
       "       0.98484848, 0.94805195, 0.93700787, 0.95480226, 0.60869565,\n",
       "       0.77142857, 0.98425197, 0.87804878, 0.68292683, 0.94915254,\n",
       "       0.77192982, 0.4375    , 0.83636364, 0.8627451 , 0.52      ,\n",
       "       0.83870968, 0.78125   , 0.99095023, 0.81395349, 0.83076923,\n",
       "       0.86206897, 0.07407407, 0.74285714, 0.84444444, 0.9924812 ,\n",
       "       0.81132075, 0.74509804, 0.88785047, 0.47368421, 0.97530864,\n",
       "       0.79069767, 0.71875   , 0.95081967, 0.94623656, 0.98148148,\n",
       "       0.86486486, 0.96078431, 0.92647059, 0.64814815, 0.08571429,\n",
       "       0.87931034, 0.70731707, 0.59210526, 0.26666667, 0.53571429,\n",
       "       0.93162393, 0.82758621, 0.70967742, 0.84848485, 0.93965517,\n",
       "       0.81666667, 0.82857143, 0.11764706, 0.94565217, 0.81578947,\n",
       "       0.82178218, 0.78723404, 0.99253731, 0.12121212, 0.76      ,\n",
       "       0.67647059, 0.98026316, 0.42307692, 0.85106383, 0.07142857,\n",
       "       0.04347826, 0.64864865, 0.45833333, 0.87272727, 0.07692308,\n",
       "       0.94392523, 0.98529412, 0.42105263, 0.96808511, 0.890625  ,\n",
       "       0.93269231, 0.99019608, 0.98039216, 0.85365854, 0.88288288,\n",
       "       0.76315789, 0.89361702, 0.87179487, 0.8961039 , 0.81553398,\n",
       "       0.76666667, 0.98924731, 0.55172414, 0.53846154, 0.8028169 ,\n",
       "       0.9516129 , 0.79518072, 0.74418605, 0.08333333, 0.99047619,\n",
       "       0.6969697 , 0.89444444, 0.05555556, 0.67741935, 0.72413793,\n",
       "       0.98181818, 0.80357143, 0.48648649, 0.95092025, 0.85333333,\n",
       "       0.99186992, 0.52380952, 0.03448276, 0.98823529, 0.82539683,\n",
       "       0.9137931 , 0.98290598, 0.43589744, 0.51724138, 0.84090909,\n",
       "       0.91935484, 0.95945946, 0.69117647, 0.98795181, 0.63414634,\n",
       "       0.88372093, 0.91803279, 0.97887324, 0.42372881, 0.83544304,\n",
       "       0.95890411, 0.41176471, 0.98989899, 0.97931034, 0.08695652,\n",
       "       0.96335079, 0.94230769, 0.9010989 ])"
      ]
     },
     "execution_count": 210,
     "metadata": {},
     "output_type": "execute_result"
    }
   ],
   "source": [
    "df1['single_page_rate'].unique()"
   ]
  },
  {
   "cell_type": "code",
   "execution_count": null,
   "metadata": {},
   "outputs": [],
   "source": []
  },
  {
   "cell_type": "code",
   "execution_count": null,
   "metadata": {},
   "outputs": [],
   "source": [
    "# # selected_features\n",
    "# sessionQualityDim\n",
    "# avg_session_time_binned\n",
    "# single_page_rate\n",
    "# count_hit_binned\n",
    "# num_interactions_binned\n"
   ]
  },
  {
   "cell_type": "code",
   "execution_count": 201,
   "metadata": {},
   "outputs": [
    {
     "data": {
      "text/plain": [
       "array([ 4., 42.,  2.,  5., 25., 44.,  1., 45.,  8.,  6.,  3.,  7., 54.,\n",
       "       10., 15., 41., 16., 24., 11., 21., 18., 53., 48., 39., 19., 40.,\n",
       "       50., 22., 55., 49.,  9., 23., 17., 37., 14., 46., 43., 52., 56.,\n",
       "       20., 51., 12., 27., 47., 34., 13., 38., 36.])"
      ]
     },
     "execution_count": 201,
     "metadata": {},
     "output_type": "execute_result"
    }
   ],
   "source": [
    "df1['sessionQualityDim'].unique()"
   ]
  },
  {
   "cell_type": "code",
   "execution_count": 200,
   "metadata": {},
   "outputs": [
    {
     "data": {
      "text/plain": [
       "array([0.82142857, 1.        , 0.98701299, 0.92857143, 0.96296296,\n",
       "       0.75      , 0.25      , 0.66666667, 0.83673469, 0.88888889,\n",
       "       0.86363636, 0.73913043, 0.97058824, 0.98507463, 0.91428571,\n",
       "       0.93333333, 0.97368421, 0.8       , 0.81818182, 0.94444444,\n",
       "       0.90909091, 0.33333333, 0.83333333, 0.9       , 0.6       ,\n",
       "       0.89473684, 0.63157895, 0.97560976, 0.95238095, 0.76923077,\n",
       "       0.78571429, 0.94117647, 0.92307692, 0.88235294, 0.71428571,\n",
       "       0.76470588, 0.96551724, 0.95      , 0.85714286, 0.96666667,\n",
       "       0.93181818, 0.78787879, 0.88461538, 0.93548387, 0.97727273,\n",
       "       0.875     , 0.80645161, 0.87037037, 0.61111111, 0.7       ,\n",
       "       0.95652174, 0.11111111, 0.91525424, 0.78947368, 0.77419355,\n",
       "       0.5       , 0.95384615, 0.91304348, 0.64285714, 0.45454545,\n",
       "       0.89189189, 0.95833333, 0.46875   , 0.93103448, 0.73076923,\n",
       "       0.91666667, 0.96491228, 0.96153846, 0.98360656, 0.9375    ,\n",
       "       0.70588235, 0.87096774, 0.84210526, 0.95454545, 0.55555556,\n",
       "       0.86885246, 0.2       , 0.84615385, 0.96774194, 0.96428571,\n",
       "       0.64705882, 0.95348837, 0.86956522, 0.77777778, 0.92      ,\n",
       "       0.81481481, 0.94736842, 0.6875    , 0.96610169, 0.89285714,\n",
       "       0.97297297, 0.80952381, 0.93939394, 0.90243902, 0.96      ,\n",
       "       0.92592593, 0.625     , 0.89090909, 0.82978723, 0.94594595,\n",
       "       0.95522388, 0.97777778, 0.98717949, 0.88157895, 0.8125    ,\n",
       "       0.85185185, 0.7826087 , 0.83783784, 0.85      , 0.62962963,\n",
       "       0.42857143, 0.88571429, 0.96875   , 0.86666667, 0.91176471,\n",
       "       0.98076923, 0.82      , 0.86046512, 0.63636364, 0.89655172,\n",
       "       0.85294118, 0.7037037 , 0.84      , 0.70833333, 0.9787234 ,\n",
       "       0.72222222, 0.92682927, 0.9245283 , 0.82352941, 0.725     ,\n",
       "       0.28571429, 0.9047619 , 0.92156863, 0.90163934, 0.98      ,\n",
       "       0.79310345, 0.73333333, 0.90196078, 0.88      , 0.98571429,\n",
       "       0.98387097, 0.72727273, 0.73684211, 0.88095238, 0.95121951,\n",
       "       0.97222222, 0.94285714, 0.8974359 , 0.96363636, 0.74603175,\n",
       "       0.61538462, 0.47058824, 0.94871795, 0.88679245, 0.45      ,\n",
       "       0.57692308, 0.67567568, 0.95555556, 0.54545455, 0.88636364,\n",
       "       0.375     , 0.84375   , 0.90322581, 0.86792453, 0.97435897,\n",
       "       0.41666667, 0.98901099, 0.58064516, 0.96969697, 0.92105263,\n",
       "       0.86842105, 0.58333333, 0.69387755, 0.80555556, 0.16666667,\n",
       "       0.76190476, 0.92957746, 0.5625    , 0.97183099, 0.90140845,\n",
       "       0.89130435, 0.52941176, 0.97142857, 0.925     , 0.98412698,\n",
       "       0.59259259, 0.85416667, 0.4       , 0.45945946, 0.74074074,\n",
       "       0.68421053, 0.93478261, 0.97674419, 0.68085106, 0.92537313,\n",
       "       0.98837209, 0.87341772, 0.91891892, 0.84313725, 0.98113208,\n",
       "       0.26470588, 0.25925926, 0.65217391, 0.8245614 , 0.975     ,\n",
       "       0.78688525, 0.92982456, 0.57142857, 0.73529412, 0.97619048,\n",
       "       0.69230769, 0.74545455, 0.90625   , 0.97826087, 0.94339623,\n",
       "       0.75609756, 0.75862069, 0.93023256, 0.14285714, 0.94642857,\n",
       "       0.79487179, 0.77272727, 0.5862069 , 0.44444444, 0.82926829,\n",
       "       0.87301587, 0.80769231, 0.74358974, 0.81034483, 0.93650794,\n",
       "       0.69565217, 0.98461538, 0.90740741, 0.67857143, 0.78      ,\n",
       "       0.75757576, 0.89393939, 0.5483871 , 0.8852459 , 0.90566038,\n",
       "       0.98484848, 0.77142857, 0.68292683, 0.94915254, 0.83636364,\n",
       "       0.8627451 , 0.57894737, 0.83870968, 0.86206897, 0.74285714,\n",
       "       0.84444444, 0.81132075, 0.74509804, 0.47368421, 0.95918367,\n",
       "       0.95081967, 0.52      , 0.98148148, 0.56756757, 0.96078431,\n",
       "       0.79069767, 0.70731707, 0.70967742, 0.84848485, 0.125     ,\n",
       "       0.82857143, 0.11764706, 0.78723404, 0.76      , 0.67647059,\n",
       "       0.85106383, 0.97916667, 0.91836735, 0.90697674, 0.890625  ,\n",
       "       0.98039216, 0.85365854, 0.76315789, 0.89361702, 0.98924731,\n",
       "       0.97959184, 0.38461538, 0.53846154, 0.65      , 0.79166667,\n",
       "       0.9516129 , 0.74418605, 0.51851852, 0.6969697 , 0.92647059,\n",
       "       0.67741935, 0.72413793, 0.72      , 0.51724138, 0.84090909,\n",
       "       0.91935484, 0.82608696, 0.98795181, 0.88372093, 0.95890411,\n",
       "       0.81578947, 0.98529412, 0.22222222, 0.77192982, 0.18181818,\n",
       "       0.60869565, 0.86486486, 0.76744186, 0.94230769, 0.81666667,\n",
       "       0.9010989 ])"
      ]
     },
     "execution_count": 200,
     "metadata": {},
     "output_type": "execute_result"
    }
   ],
   "source": [
    "df1['single_page_rate'].unique()"
   ]
  },
  {
   "cell_type": "code",
   "execution_count": 164,
   "metadata": {},
   "outputs": [
    {
     "data": {
      "text/plain": [
       "Index(['count_session', 'count_hit', 'channelGrouping', 'totals_newVisits',\n",
       "       'device_browser', 'device_operatingSystem', 'device_isMobile',\n",
       "       'device_deviceCategory', 'geoNetwork_region', 'geoNetwork_latitude',\n",
       "       'geoNetwork_longitude', 'historic_session', 'historic_session_page',\n",
       "       'youtube', 'avg_session_time_page', 'single_page_rate',\n",
       "       'sessionQualityDim', 'last_visitId', 'latest_visit_id',\n",
       "       'visitId_threshold', 'earliest_visit_id', 'earliest_visit_number',\n",
       "       'latest_visit_number', 'time_earliest_visit', 'time_latest_visit',\n",
       "       'avg_visit_time', 'days_since_last_visit', 'days_since_first_visit',\n",
       "       'visits_per_day', 'bounce_rate', 'earliest_source', 'latest_source',\n",
       "       'earliest_medium', 'latest_medium', 'earliest_keyword',\n",
       "       'latest_keyword', 'earliest_isTrueDirect', 'latest_isTrueDirect',\n",
       "       'bounces', 'time_on_site', 'transactionRevenue', 'products_array',\n",
       "       'has_converted', 'target_date', 'avg_session_time_binned',\n",
       "       'count_hit_binned', 'num_interactions_binned'],\n",
       "      dtype='object')"
      ]
     },
     "execution_count": 164,
     "metadata": {},
     "output_type": "execute_result"
    }
   ],
   "source": [
    "df1.columns"
   ]
  },
  {
   "cell_type": "markdown",
   "metadata": {},
   "source": [
    "OUTLIERS find & Handling"
   ]
  },
  {
   "cell_type": "code",
   "execution_count": 165,
   "metadata": {},
   "outputs": [],
   "source": [
    "import numpy as np"
   ]
  },
  {
   "cell_type": "code",
   "execution_count": 166,
   "metadata": {},
   "outputs": [
    {
     "name": "stderr",
     "output_type": "stream",
     "text": [
      "C:\\Users\\Tprab\\AppData\\Local\\Temp\\ipykernel_10956\\1954681814.py:10: FutureWarning: Setting an item of incompatible dtype is deprecated and will raise an error in a future version of pandas. Value 'nan' has dtype incompatible with bool, please explicitly cast to a compatible dtype first.\n",
      "  df1[outliers] = np.nan  # Replace outliers with NaN\n",
      "C:\\Users\\Tprab\\AppData\\Local\\Temp\\ipykernel_10956\\1954681814.py:10: FutureWarning: Setting an item of incompatible dtype is deprecated and will raise an error in a future version of pandas. Value 'nan' has dtype incompatible with bool, please explicitly cast to a compatible dtype first.\n",
      "  df1[outliers] = np.nan  # Replace outliers with NaN\n",
      "C:\\Users\\Tprab\\AppData\\Local\\Temp\\ipykernel_10956\\1954681814.py:10: FutureWarning: Setting an item of incompatible dtype is deprecated and will raise an error in a future version of pandas. Value 'nan' has dtype incompatible with bool, please explicitly cast to a compatible dtype first.\n",
      "  df1[outliers] = np.nan  # Replace outliers with NaN\n"
     ]
    }
   ],
   "source": [
    "# Assuming 'df1' is your DataFrame\n",
    "numeric_columns = df1.select_dtypes(include=[np.number]).columns\n",
    "z_scores = np.abs((df1[numeric_columns] - df1[numeric_columns].mean()) / df1[numeric_columns].std())\n",
    "\n",
    "# Set a threshold (e.g., 3) for z-scores\n",
    "threshold = 3\n",
    "outliers = (z_scores > threshold).any(axis=1)\n",
    "\n",
    "# Handle outliers (replace with NaN, remove, or apply a transformation)\n",
    "df1[outliers] = np.nan  # Replace outliers with NaN\n",
    "# OR\n",
    "df1 = df1[~outliers]  "
   ]
  },
  {
   "cell_type": "code",
   "execution_count": 167,
   "metadata": {},
   "outputs": [
    {
     "data": {
      "text/html": [
       "<div>\n",
       "<style scoped>\n",
       "    .dataframe tbody tr th:only-of-type {\n",
       "        vertical-align: middle;\n",
       "    }\n",
       "\n",
       "    .dataframe tbody tr th {\n",
       "        vertical-align: top;\n",
       "    }\n",
       "\n",
       "    .dataframe thead th {\n",
       "        text-align: right;\n",
       "    }\n",
       "</style>\n",
       "<table border=\"1\" class=\"dataframe\">\n",
       "  <thead>\n",
       "    <tr style=\"text-align: right;\">\n",
       "      <th></th>\n",
       "      <th>count_session</th>\n",
       "      <th>count_hit</th>\n",
       "      <th>channelGrouping</th>\n",
       "      <th>totals_newVisits</th>\n",
       "      <th>device_browser</th>\n",
       "      <th>device_operatingSystem</th>\n",
       "      <th>device_isMobile</th>\n",
       "      <th>device_deviceCategory</th>\n",
       "      <th>geoNetwork_region</th>\n",
       "      <th>geoNetwork_latitude</th>\n",
       "      <th>...</th>\n",
       "      <th>latest_isTrueDirect</th>\n",
       "      <th>bounces</th>\n",
       "      <th>time_on_site</th>\n",
       "      <th>transactionRevenue</th>\n",
       "      <th>products_array</th>\n",
       "      <th>has_converted</th>\n",
       "      <th>target_date</th>\n",
       "      <th>avg_session_time_binned</th>\n",
       "      <th>count_hit_binned</th>\n",
       "      <th>num_interactions_binned</th>\n",
       "    </tr>\n",
       "  </thead>\n",
       "  <tbody>\n",
       "    <tr>\n",
       "      <th>2</th>\n",
       "      <td>28.0</td>\n",
       "      <td>1816.0</td>\n",
       "      <td>2.0</td>\n",
       "      <td>0.0</td>\n",
       "      <td>1.0</td>\n",
       "      <td>1.0</td>\n",
       "      <td>True</td>\n",
       "      <td>1.0</td>\n",
       "      <td>2.0</td>\n",
       "      <td>25.4052</td>\n",
       "      <td>...</td>\n",
       "      <td>True</td>\n",
       "      <td>0.0</td>\n",
       "      <td>77417.0</td>\n",
       "      <td>1.477195e+09</td>\n",
       "      <td>898.0</td>\n",
       "      <td>1.0</td>\n",
       "      <td>2021-01-01</td>\n",
       "      <td>1</td>\n",
       "      <td>3</td>\n",
       "      <td>2</td>\n",
       "    </tr>\n",
       "    <tr>\n",
       "      <th>3</th>\n",
       "      <td>2.0</td>\n",
       "      <td>299.0</td>\n",
       "      <td>2.0</td>\n",
       "      <td>0.0</td>\n",
       "      <td>1.0</td>\n",
       "      <td>1.0</td>\n",
       "      <td>True</td>\n",
       "      <td>1.0</td>\n",
       "      <td>1.0</td>\n",
       "      <td>24.4539</td>\n",
       "      <td>...</td>\n",
       "      <td>True</td>\n",
       "      <td>0.0</td>\n",
       "      <td>1576.0</td>\n",
       "      <td>0.000000e+00</td>\n",
       "      <td>2234.0</td>\n",
       "      <td>0.0</td>\n",
       "      <td>2021-01-01</td>\n",
       "      <td>1</td>\n",
       "      <td>2</td>\n",
       "      <td>1</td>\n",
       "    </tr>\n",
       "  </tbody>\n",
       "</table>\n",
       "<p>2 rows × 47 columns</p>\n",
       "</div>"
      ],
      "text/plain": [
       "   count_session  count_hit  channelGrouping  totals_newVisits  \\\n",
       "2           28.0     1816.0              2.0               0.0   \n",
       "3            2.0      299.0              2.0               0.0   \n",
       "\n",
       "   device_browser  device_operatingSystem device_isMobile  \\\n",
       "2             1.0                     1.0            True   \n",
       "3             1.0                     1.0            True   \n",
       "\n",
       "   device_deviceCategory  geoNetwork_region  geoNetwork_latitude  ...  \\\n",
       "2                    1.0                2.0              25.4052  ...   \n",
       "3                    1.0                1.0              24.4539  ...   \n",
       "\n",
       "   latest_isTrueDirect  bounces  time_on_site  transactionRevenue  \\\n",
       "2                 True      0.0       77417.0        1.477195e+09   \n",
       "3                 True      0.0        1576.0        0.000000e+00   \n",
       "\n",
       "   products_array  has_converted  target_date  avg_session_time_binned  \\\n",
       "2           898.0            1.0   2021-01-01                        1   \n",
       "3          2234.0            0.0   2021-01-01                        1   \n",
       "\n",
       "   count_hit_binned  num_interactions_binned  \n",
       "2                 3                        2  \n",
       "3                 2                        1  \n",
       "\n",
       "[2 rows x 47 columns]"
      ]
     },
     "execution_count": 167,
     "metadata": {},
     "output_type": "execute_result"
    }
   ],
   "source": [
    "df1.head(2)"
   ]
  },
  {
   "cell_type": "code",
   "execution_count": 168,
   "metadata": {},
   "outputs": [],
   "source": [
    "df1.to_csv(\"df2.csv\",index= False)"
   ]
  },
  {
   "cell_type": "markdown",
   "metadata": {},
   "source": [
    "Future selectionign"
   ]
  },
  {
   "cell_type": "code",
   "execution_count": 169,
   "metadata": {},
   "outputs": [
    {
     "data": {
      "text/plain": [
       "Index(['count_session', 'count_hit', 'channelGrouping', 'totals_newVisits',\n",
       "       'device_browser', 'device_operatingSystem', 'device_isMobile',\n",
       "       'device_deviceCategory', 'geoNetwork_region', 'geoNetwork_latitude',\n",
       "       'geoNetwork_longitude', 'historic_session', 'historic_session_page',\n",
       "       'youtube', 'avg_session_time_page', 'single_page_rate',\n",
       "       'sessionQualityDim', 'last_visitId', 'latest_visit_id',\n",
       "       'visitId_threshold', 'earliest_visit_id', 'earliest_visit_number',\n",
       "       'latest_visit_number', 'time_earliest_visit', 'time_latest_visit',\n",
       "       'avg_visit_time', 'days_since_last_visit', 'days_since_first_visit',\n",
       "       'visits_per_day', 'bounce_rate', 'earliest_source', 'latest_source',\n",
       "       'earliest_medium', 'latest_medium', 'earliest_keyword',\n",
       "       'latest_keyword', 'earliest_isTrueDirect', 'latest_isTrueDirect',\n",
       "       'bounces', 'time_on_site', 'transactionRevenue', 'products_array',\n",
       "       'has_converted', 'target_date', 'avg_session_time_binned',\n",
       "       'count_hit_binned', 'num_interactions_binned'],\n",
       "      dtype='object')"
      ]
     },
     "execution_count": 169,
     "metadata": {},
     "output_type": "execute_result"
    }
   ],
   "source": [
    "df1.columns"
   ]
  },
  {
   "cell_type": "code",
   "execution_count": 170,
   "metadata": {},
   "outputs": [],
   "source": [
    "import pandas as pd"
   ]
  },
  {
   "cell_type": "code",
   "execution_count": 171,
   "metadata": {},
   "outputs": [
    {
     "data": {
      "text/html": [
       "<div>\n",
       "<style scoped>\n",
       "    .dataframe tbody tr th:only-of-type {\n",
       "        vertical-align: middle;\n",
       "    }\n",
       "\n",
       "    .dataframe tbody tr th {\n",
       "        vertical-align: top;\n",
       "    }\n",
       "\n",
       "    .dataframe thead th {\n",
       "        text-align: right;\n",
       "    }\n",
       "</style>\n",
       "<table border=\"1\" class=\"dataframe\">\n",
       "  <thead>\n",
       "    <tr style=\"text-align: right;\">\n",
       "      <th></th>\n",
       "      <th>count_session</th>\n",
       "      <th>count_hit</th>\n",
       "      <th>channelGrouping</th>\n",
       "      <th>totals_newVisits</th>\n",
       "      <th>device_browser</th>\n",
       "      <th>device_operatingSystem</th>\n",
       "      <th>device_isMobile</th>\n",
       "      <th>device_deviceCategory</th>\n",
       "      <th>geoNetwork_region</th>\n",
       "      <th>geoNetwork_latitude</th>\n",
       "      <th>...</th>\n",
       "      <th>latest_isTrueDirect</th>\n",
       "      <th>bounces</th>\n",
       "      <th>time_on_site</th>\n",
       "      <th>transactionRevenue</th>\n",
       "      <th>products_array</th>\n",
       "      <th>has_converted</th>\n",
       "      <th>target_date</th>\n",
       "      <th>avg_session_time_binned</th>\n",
       "      <th>count_hit_binned</th>\n",
       "      <th>num_interactions_binned</th>\n",
       "    </tr>\n",
       "  </thead>\n",
       "  <tbody>\n",
       "    <tr>\n",
       "      <th>0</th>\n",
       "      <td>28.0</td>\n",
       "      <td>1816.0</td>\n",
       "      <td>2.0</td>\n",
       "      <td>0.0</td>\n",
       "      <td>1.0</td>\n",
       "      <td>1.0</td>\n",
       "      <td>True</td>\n",
       "      <td>1.0</td>\n",
       "      <td>2.0</td>\n",
       "      <td>25.4052</td>\n",
       "      <td>...</td>\n",
       "      <td>True</td>\n",
       "      <td>0.0</td>\n",
       "      <td>77417.0</td>\n",
       "      <td>1.477195e+09</td>\n",
       "      <td>898.0</td>\n",
       "      <td>1.0</td>\n",
       "      <td>2021-01-01</td>\n",
       "      <td>1</td>\n",
       "      <td>3</td>\n",
       "      <td>2</td>\n",
       "    </tr>\n",
       "    <tr>\n",
       "      <th>1</th>\n",
       "      <td>2.0</td>\n",
       "      <td>299.0</td>\n",
       "      <td>2.0</td>\n",
       "      <td>0.0</td>\n",
       "      <td>1.0</td>\n",
       "      <td>1.0</td>\n",
       "      <td>True</td>\n",
       "      <td>1.0</td>\n",
       "      <td>1.0</td>\n",
       "      <td>24.4539</td>\n",
       "      <td>...</td>\n",
       "      <td>True</td>\n",
       "      <td>0.0</td>\n",
       "      <td>1576.0</td>\n",
       "      <td>0.000000e+00</td>\n",
       "      <td>2234.0</td>\n",
       "      <td>0.0</td>\n",
       "      <td>2021-01-01</td>\n",
       "      <td>1</td>\n",
       "      <td>2</td>\n",
       "      <td>1</td>\n",
       "    </tr>\n",
       "  </tbody>\n",
       "</table>\n",
       "<p>2 rows × 47 columns</p>\n",
       "</div>"
      ],
      "text/plain": [
       "   count_session  count_hit  channelGrouping  totals_newVisits  \\\n",
       "0           28.0     1816.0              2.0               0.0   \n",
       "1            2.0      299.0              2.0               0.0   \n",
       "\n",
       "   device_browser  device_operatingSystem  device_isMobile  \\\n",
       "0             1.0                     1.0             True   \n",
       "1             1.0                     1.0             True   \n",
       "\n",
       "   device_deviceCategory  geoNetwork_region  geoNetwork_latitude  ...  \\\n",
       "0                    1.0                2.0              25.4052  ...   \n",
       "1                    1.0                1.0              24.4539  ...   \n",
       "\n",
       "   latest_isTrueDirect  bounces  time_on_site  transactionRevenue  \\\n",
       "0                 True      0.0       77417.0        1.477195e+09   \n",
       "1                 True      0.0        1576.0        0.000000e+00   \n",
       "\n",
       "   products_array  has_converted  target_date  avg_session_time_binned  \\\n",
       "0           898.0            1.0   2021-01-01                        1   \n",
       "1          2234.0            0.0   2021-01-01                        1   \n",
       "\n",
       "   count_hit_binned  num_interactions_binned  \n",
       "0                 3                        2  \n",
       "1                 2                        1  \n",
       "\n",
       "[2 rows x 47 columns]"
      ]
     },
     "execution_count": 171,
     "metadata": {},
     "output_type": "execute_result"
    }
   ],
   "source": [
    "df2 = pd.read_csv(\"df2.csv\")\n",
    "df2.head(2)"
   ]
  },
  {
   "cell_type": "code",
   "execution_count": 196,
   "metadata": {},
   "outputs": [
    {
     "data": {
      "text/plain": [
       "array(['low'], dtype=object)"
      ]
     },
     "execution_count": 196,
     "metadata": {},
     "output_type": "execute_result"
    }
   ],
   "source": [
    "df1[column].unique()"
   ]
  },
  {
   "cell_type": "code",
   "execution_count": 172,
   "metadata": {},
   "outputs": [],
   "source": [
    "import pandas as pd\n",
    "from sklearn.model_selection import train_test_split\n",
    "from sklearn.ensemble import RandomForestClassifier\n",
    "from sklearn.metrics import accuracy_score\n",
    "from sklearn.preprocessing import StandardScaler\n",
    "from sklearn.metrics import precision_score, recall_score, f1_score"
   ]
  },
  {
   "cell_type": "code",
   "execution_count": 173,
   "metadata": {},
   "outputs": [],
   "source": [
    "# selected_features\n",
    "# sessionQualityDim\n",
    "# avg_session_time_binned\n",
    "# single_page_rate\n",
    "# count_hit_binned\n",
    "# num_interactions_binned\n"
   ]
  },
  {
   "cell_type": "code",
   "execution_count": 174,
   "metadata": {},
   "outputs": [],
   "source": [
    "selected_features = ['sessionQualityDim', 'avg_session_time_binned', 'single_page_rate', 'count_hit_binned', 'num_interactions_binned']\n",
    "X = df2[selected_features]\n",
    "y = df2['has_converted']"
   ]
  },
  {
   "cell_type": "code",
   "execution_count": 175,
   "metadata": {},
   "outputs": [],
   "source": [
    "X_train, X_test, y_train, y_test = train_test_split(X, y, test_size=0.2, random_state=42)"
   ]
  },
  {
   "cell_type": "code",
   "execution_count": 176,
   "metadata": {},
   "outputs": [],
   "source": [
    "# Standardize the features\n",
    "scaler = StandardScaler()\n",
    "X_train_scaled = scaler.fit_transform(X_train)\n",
    "X_test_scaled = scaler.transform(X_test)"
   ]
  },
  {
   "cell_type": "code",
   "execution_count": 177,
   "metadata": {},
   "outputs": [
    {
     "name": "stdout",
     "output_type": "stream",
     "text": [
      "Accuracy: 0.8589626933575978\n",
      "Feature Importances:\n",
      "sessionQualityDim: 0.38217643871748175\n",
      "avg_session_time_binned: 0.031010722490313197\n",
      "single_page_rate: 0.42088070739191535\n",
      "count_hit_binned: 0.049491622401802715\n",
      "num_interactions_binned: 0.11644050899848707\n"
     ]
    }
   ],
   "source": [
    "# Initialize the RandomForestClassifier\n",
    "RFC = RandomForestClassifier()\n",
    "\n",
    "# Fit the model on the training set\n",
    "RFC.fit(X_train_scaled, y_train)\n",
    "\n",
    "# Make predictions on the test set\n",
    "y_pred = RFC.predict(X_test_scaled)\n",
    "\n",
    "# Evaluate the model\n",
    "accuracy = accuracy_score(y_test, y_pred)\n",
    "print(\"Accuracy:\", accuracy)\n",
    "\n",
    "# Get feature importances\n",
    "feature_importances = RFC.feature_importances_\n",
    "print(\"Feature Importances:\")\n",
    "for feature, importance in zip(selected_features, feature_importances):\n",
    "    print(f\"{feature}: {importance}\")\n"
   ]
  },
  {
   "cell_type": "code",
   "execution_count": 178,
   "metadata": {},
   "outputs": [
    {
     "name": "stdout",
     "output_type": "stream",
     "text": [
      "Precision: 0.8137624861265261\n",
      "Recall: 0.9560568522623549\n",
      "F1 Score: 0.8791893998441154\n"
     ]
    }
   ],
   "source": [
    "# Calculate precision, recall, and F1-score\n",
    "precision = precision_score(y_test, y_pred)\n",
    "recall = recall_score(y_test, y_pred)\n",
    "f1 = f1_score(y_test, y_pred)\n",
    "\n",
    "print(\"Precision:\", precision)\n",
    "print(\"Recall:\", recall)\n",
    "print(\"F1 Score:\", f1)\n",
    "\n",
    "# Feature importances\n",
    "feature_importances = {\n",
    "    'sessionQualityDim': 0.19338234524186065,\n",
    "    'avg_session_time': 0.21958626982968277,\n",
    "    'single_page_rate': 0.1566488109381351,\n",
    "    'count_hit': 0.19458874134598625,\n",
    "    'num_interactions': 0.23579383264433512\n",
    "}"
   ]
  },
  {
   "cell_type": "code",
   "execution_count": 179,
   "metadata": {},
   "outputs": [
    {
     "name": "stdout",
     "output_type": "stream",
     "text": [
      "Accuracy: 0.8592426681598656\n"
     ]
    }
   ],
   "source": [
    "# Initialize the RandomForestClassifier\n",
    "RFC = RandomForestClassifier()\n",
    "\n",
    "# Fit the model on the training set\n",
    "RFC.fit(X_train, y_train)\n",
    "\n",
    "# Make predictions on the test set\n",
    "y_pred = RFC.predict(X_test)\n",
    "\n",
    "# Evaluate the model\n",
    "accuracy = accuracy_score(y_test, y_pred)\n",
    "print(\"Accuracy:\", accuracy)\n",
    "\n",
    "# Get feature importances\n",
    "feature_importances = RFC.feature_importances_"
   ]
  },
  {
   "cell_type": "code",
   "execution_count": 180,
   "metadata": {},
   "outputs": [],
   "source": [
    "# Sort feature importances in descending order\n",
    "sorted_indices = feature_importances.argsort()[::-1]\n",
    "sorted_feature_importances = feature_importances[sorted_indices]\n",
    "sorted_features = X.columns[sorted_indices]"
   ]
  },
  {
   "cell_type": "code",
   "execution_count": 181,
   "metadata": {},
   "outputs": [
    {
     "name": "stdout",
     "output_type": "stream",
     "text": [
      "Selected Features: Index(['single_page_rate', 'sessionQualityDim', 'num_interactions_binned',\n",
      "       'count_hit_binned', 'avg_session_time_binned'],\n",
      "      dtype='object')\n"
     ]
    }
   ],
   "source": [
    "# Select top N features\n",
    "top_n = 5\n",
    "selected_features = sorted_features[:top_n]\n",
    "print(\"Selected Features:\", selected_features)"
   ]
  },
  {
   "cell_type": "code",
   "execution_count": 182,
   "metadata": {},
   "outputs": [
    {
     "name": "stdout",
     "output_type": "stream",
     "text": [
      "Selected Features above threshold: Index(['single_page_rate', 'sessionQualityDim', 'num_interactions_binned'], dtype='object')\n"
     ]
    }
   ],
   "source": [
    "# Alternatively, you can specify a threshold for feature importance and select features above that threshold\n",
    "threshold = 0.1\n",
    "selected_features_above_threshold = sorted_features[sorted_feature_importances > threshold]\n",
    "print(\"Selected Features above threshold:\", selected_features_above_threshold)"
   ]
  },
  {
   "cell_type": "code",
   "execution_count": 184,
   "metadata": {},
   "outputs": [
    {
     "name": "stdout",
     "output_type": "stream",
     "text": [
      "Selected Features after removing less important features: Index(['single_page_rate', 'sessionQualityDim', 'num_interactions_binned',\n",
      "       'count_hit_binned'],\n",
      "      dtype='object')\n"
     ]
    }
   ],
   "source": [
    "# Remove less important features\n",
    "# For example, let's remove features with importance below a certain threshold (e.g., 0.05)\n",
    "threshold = 0.05\n",
    "selected_features = sorted_features[sorted_feature_importances >= threshold]\n",
    "print(\"Selected Features after removing less important features:\", selected_features)"
   ]
  },
  {
   "cell_type": "code",
   "execution_count": 185,
   "metadata": {},
   "outputs": [],
   "source": [
    "import pickle\n",
    "with open('random_forest_model.pkl', 'wb') as model_file:\n",
    "    pickle.dump(RFC, model_file)"
   ]
  },
  {
   "cell_type": "code",
   "execution_count": 189,
   "metadata": {},
   "outputs": [],
   "source": [
    "# Importing the required library\n",
    "from sklearn.ensemble import RandomForestClassifier\n",
    "\n",
    "X_train, X_test, y_train, y_test = train_test_split(X, y, test_size=0.2, random_state=42)\n",
    "\n",
    "# Initialize the RandomForestClassifier\n",
    "random_forest_classifier = RandomForestClassifier()\n",
    "\n",
    "# Train the classifier\n",
    "random_forest_classifier.fit(X_train, y_train)\n",
    "\n",
    "# Predict probabilities\n",
    "predictions = random_forest_classifier.predict(X_test)\n",
    "predicted_probabilities = random_forest_classifier.predict_proba(X_test)\n"
   ]
  },
  {
   "cell_type": "code",
   "execution_count": 191,
   "metadata": {},
   "outputs": [
    {
     "data": {
      "text/plain": [
       "array([[0.02      , 0.98      ],\n",
       "       [0.43880931, 0.56119069],\n",
       "       [0.16314335, 0.83685665],\n",
       "       ...,\n",
       "       [1.        , 0.        ],\n",
       "       [0.16839406, 0.83160594],\n",
       "       [1.        , 0.        ]])"
      ]
     },
     "execution_count": 191,
     "metadata": {},
     "output_type": "execute_result"
    }
   ],
   "source": [
    "predicted_probabilities"
   ]
  },
  {
   "cell_type": "markdown",
   "metadata": {},
   "source": [
    "Another model build-Its my own knowldege"
   ]
  },
  {
   "cell_type": "code",
   "execution_count": 186,
   "metadata": {},
   "outputs": [
    {
     "name": "stdout",
     "output_type": "stream",
     "text": [
      "RandomForest Accuracy: 0.8593826555609995\n",
      "GradientBoosting Accuracy: 0.8129068383845454\n"
     ]
    },
    {
     "name": "stderr",
     "output_type": "stream",
     "text": [
      "c:\\Users\\Tprab\\AppData\\Local\\Programs\\Python\\Python312\\Lib\\site-packages\\sklearn\\ensemble\\_weight_boosting.py:519: FutureWarning: The SAMME.R algorithm (the default) is deprecated and will be removed in 1.6. Use the SAMME algorithm to circumvent this warning.\n",
      "  warnings.warn(\n"
     ]
    },
    {
     "name": "stdout",
     "output_type": "stream",
     "text": [
      "AdaBoost Accuracy: 0.7952684258416742\n",
      "SVC Accuracy: 0.769510744033037\n",
      "KNeighbors Accuracy: 0.8434240918317352\n"
     ]
    }
   ],
   "source": [
    "from sklearn.ensemble import RandomForestClassifier, GradientBoostingClassifier, AdaBoostClassifier\n",
    "from sklearn.svm import SVC\n",
    "from sklearn.neighbors import KNeighborsClassifier\n",
    "from sklearn.metrics import accuracy_score\n",
    "\n",
    "# Initialize models\n",
    "models = {\n",
    "    \"RandomForest\": RandomForestClassifier(),\n",
    "    \"GradientBoosting\": GradientBoostingClassifier(),\n",
    "    \"AdaBoost\": AdaBoostClassifier(),\n",
    "    \"SVC\": SVC(),\n",
    "    \"KNeighbors\": KNeighborsClassifier()\n",
    "}\n",
    "\n",
    "# Train and evaluate models\n",
    "for name, model in models.items():\n",
    "    model.fit(X_train, y_train)\n",
    "    y_pred = model.predict(X_test)\n",
    "    accuracy = accuracy_score(y_test, y_pred)\n",
    "    print(f\"{name} Accuracy:\", accuracy)\n"
   ]
  },
  {
   "cell_type": "markdown",
   "metadata": {},
   "source": [
    "KNeighborsclassifiers model-2"
   ]
  },
  {
   "cell_type": "code",
   "execution_count": 2,
   "metadata": {},
   "outputs": [],
   "source": [
    "# from sklearn.neighbors import KNeighborsClassifier\n",
    "# from sklearn.metrics import accuracy_score"
   ]
  },
  {
   "cell_type": "code",
   "execution_count": 10,
   "metadata": {},
   "outputs": [
    {
     "name": "stdout",
     "output_type": "stream",
     "text": [
      "Accuracy: 0.9686174724342663\n"
     ]
    }
   ],
   "source": [
    "# Initialize the KNeighborsClassifier\n",
    "KNN = KNeighborsClassifier()\n",
    "\n",
    "# Fit the model on the training set\n",
    "KNN.fit(X_train, y_train)\n",
    "\n",
    "# Make predictions on the test set\n",
    "y_pred = KNN.predict(X_test)\n",
    "\n",
    "# Evaluate the model\n",
    "accuracy = accuracy_score(y_test, y_pred)\n",
    "print(\"Accuracy:\", accuracy)"
   ]
  },
  {
   "cell_type": "code",
   "execution_count": 12,
   "metadata": {},
   "outputs": [],
   "source": [
    "import pickle\n",
    "# Save the trained model to a file\n",
    "with open('knn_model.pkl', 'wb') as file:\n",
    "    pickle.dump(KNN, file)"
   ]
  },
  {
   "cell_type": "markdown",
   "metadata": {},
   "source": [
    "GradientBoosting Accuracy model-3"
   ]
  },
  {
   "cell_type": "code",
   "execution_count": 14,
   "metadata": {},
   "outputs": [
    {
     "name": "stdout",
     "output_type": "stream",
     "text": [
      "GradientBoosting Accuracy: 0.8454905286966355\n"
     ]
    }
   ],
   "source": [
    "from sklearn.ensemble import GradientBoostingClassifier\n",
    "# Initialize the GradientBoostingClassifier\n",
    "GB = GradientBoostingClassifier()\n",
    "\n",
    "# Fit the model on the training set\n",
    "GB.fit(X_train, y_train)\n",
    "\n",
    "# Make predictions on the test set\n",
    "y_pred_GB = GB.predict(X_test)\n",
    "\n",
    "# Evaluate the model\n",
    "accuracy_GB = accuracy_score(y_test, y_pred_GB)\n",
    "print(\"GradientBoosting Accuracy:\", accuracy_GB)"
   ]
  },
  {
   "cell_type": "code",
   "execution_count": 15,
   "metadata": {},
   "outputs": [],
   "source": [
    "# Save the trained model to a file\n",
    "with open('gradient_boosting_model.pkl', 'wb') as file:\n",
    "    pickle.dump(GB, file)"
   ]
  },
  {
   "cell_type": "markdown",
   "metadata": {},
   "source": [
    "AdaBoost Accuracy model-4"
   ]
  },
  {
   "cell_type": "code",
   "execution_count": 16,
   "metadata": {},
   "outputs": [
    {
     "name": "stderr",
     "output_type": "stream",
     "text": [
      "c:\\Users\\Tprab\\AppData\\Local\\Programs\\Python\\Python312\\Lib\\site-packages\\sklearn\\ensemble\\_weight_boosting.py:519: FutureWarning: The SAMME.R algorithm (the default) is deprecated and will be removed in 1.6. Use the SAMME algorithm to circumvent this warning.\n",
      "  warnings.warn(\n"
     ]
    },
    {
     "name": "stdout",
     "output_type": "stream",
     "text": [
      "AdaBoost Accuracy: 0.7965083404014702\n"
     ]
    }
   ],
   "source": [
    "from sklearn.ensemble import AdaBoostClassifier\n",
    "\n",
    "# Initialize the AdaBoostClassifier\n",
    "AdaBoost = AdaBoostClassifier()\n",
    "\n",
    "# Fit the model on the training set\n",
    "AdaBoost.fit(X_train, y_train)\n",
    "\n",
    "# Make predictions on the test set\n",
    "y_pred_AdaBoost = AdaBoost.predict(X_test)\n",
    "\n",
    "# Evaluate the model\n",
    "accuracy_AdaBoost = accuracy_score(y_test, y_pred_AdaBoost)\n",
    "print(\"AdaBoost Accuracy:\", accuracy_AdaBoost)"
   ]
  },
  {
   "cell_type": "code",
   "execution_count": 17,
   "metadata": {},
   "outputs": [],
   "source": [
    "# Save the trained model to a file\n",
    "with open('adaboost_model.pkl', 'wb') as file:\n",
    "    pickle.dump(AdaBoost, file)"
   ]
  },
  {
   "cell_type": "markdown",
   "metadata": {},
   "source": [
    "SVC Accuracy model-5"
   ]
  },
  {
   "cell_type": "code",
   "execution_count": 18,
   "metadata": {},
   "outputs": [
    {
     "name": "stdout",
     "output_type": "stream",
     "text": [
      "SVC Accuracy: 0.7225049476957874\n"
     ]
    }
   ],
   "source": [
    "from sklearn.svm import SVC\n",
    "\n",
    "# Initialize the SVC\n",
    "SVC_model = SVC()\n",
    "\n",
    "# Fit the model on the training set\n",
    "SVC_model.fit(X_train, y_train)\n",
    "\n",
    "# Make predictions on the test set\n",
    "y_pred_SVC = SVC_model.predict(X_test)\n",
    "\n",
    "# Evaluate the model\n",
    "accuracy_SVC = accuracy_score(y_test, y_pred_SVC)\n",
    "print(\"SVC Accuracy:\", accuracy_SVC)"
   ]
  },
  {
   "cell_type": "code",
   "execution_count": 19,
   "metadata": {},
   "outputs": [],
   "source": [
    "# Save the trained model to a file\n",
    "with open('svc_model.pkl', 'wb') as file:\n",
    "    pickle.dump(SVC_model, file)"
   ]
  },
  {
   "cell_type": "markdown",
   "metadata": {},
   "source": [
    "Get results"
   ]
  },
  {
   "cell_type": "code",
   "execution_count": 21,
   "metadata": {},
   "outputs": [],
   "source": [
    "from sklearn.model_selection import train_test_split\n",
    "from sklearn.ensemble import RandomForestClassifier\n",
    "from sklearn.metrics import accuracy_score, precision_score, recall_score, f1_score\n",
    "from sklearn.linear_model import LogisticRegression\n",
    "from sklearn.svm import SVC\n",
    "from sklearn.neighbors import KNeighborsClassifier\n",
    "from sklearn.tree import DecisionTreeClassifier"
   ]
  },
  {
   "cell_type": "code",
   "execution_count": 22,
   "metadata": {},
   "outputs": [
    {
     "name": "stderr",
     "output_type": "stream",
     "text": [
      "c:\\Users\\Tprab\\AppData\\Local\\Programs\\Python\\Python312\\Lib\\site-packages\\sklearn\\linear_model\\_logistic.py:469: ConvergenceWarning: lbfgs failed to converge (status=1):\n",
      "STOP: TOTAL NO. of ITERATIONS REACHED LIMIT.\n",
      "\n",
      "Increase the number of iterations (max_iter) or scale the data as shown in:\n",
      "    https://scikit-learn.org/stable/modules/preprocessing.html\n",
      "Please also refer to the documentation for alternative solver options:\n",
      "    https://scikit-learn.org/stable/modules/linear_model.html#logistic-regression\n",
      "  n_iter_i = _check_optimize_result(\n"
     ]
    },
    {
     "name": "stdout",
     "output_type": "stream",
     "text": [
      "Model: Random Forest\n",
      "Accuracy: 0.993214588634436\n",
      "Precision: 0.9954871250331829\n",
      "Recall: 0.9918011108172441\n",
      "F1 Score: 0.9936406995230525\n",
      "\n",
      "Model: Logistic Regression\n",
      "Accuracy: 0.754594288945434\n",
      "Precision: 0.7313348416289592\n",
      "Recall: 0.8549325575244644\n",
      "F1 Score: 0.7883184977441775\n",
      "\n",
      "Model: Support Vector Machine\n",
      "Accuracy: 0.7225049476957874\n",
      "Precision: 0.7336160370084811\n",
      "Recall: 0.7549590055540862\n",
      "F1 Score: 0.7441345151199166\n",
      "\n",
      "Model: K-Nearest Neighbors\n",
      "Accuracy: 0.9686174724342663\n",
      "Precision: 0.9670603674540682\n",
      "Recall: 0.9744776514149696\n",
      "F1 Score: 0.9707548412593862\n",
      "\n",
      "Model: Decision Tree\n",
      "Accuracy: 0.989821882951654\n",
      "Precision: 0.9913884472708002\n",
      "Recall: 0.9895530282993917\n",
      "F1 Score: 0.9904698874917274\n",
      "\n"
     ]
    }
   ],
   "source": [
    "# Split the data into training and testing sets\n",
    "X_train, X_test, y_train, y_test = train_test_split(X, y, test_size=0.2, random_state=42)\n",
    "\n",
    "# Initialize the classifiers\n",
    "classifiers = {\n",
    "    'Random Forest': RandomForestClassifier(),\n",
    "    'Logistic Regression': LogisticRegression(),\n",
    "    'Support Vector Machine': SVC(),\n",
    "    'K-Nearest Neighbors': KNeighborsClassifier(),\n",
    "    'Decision Tree': DecisionTreeClassifier()\n",
    "}\n",
    "\n",
    "# Train and evaluate each model\n",
    "results = {}\n",
    "for name, clf in classifiers.items():\n",
    "    clf.fit(X_train, y_train)\n",
    "    y_pred = clf.predict(X_test)\n",
    "    accuracy = accuracy_score(y_test, y_pred)\n",
    "    precision = precision_score(y_test, y_pred)\n",
    "    recall = recall_score(y_test, y_pred)\n",
    "    f1 = f1_score(y_test, y_pred)\n",
    "    results[name] = {'Accuracy': accuracy, 'Precision': precision, 'Recall': recall, 'F1 Score': f1}\n",
    "\n",
    "# Print the results\n",
    "for name, metrics in results.items():\n",
    "    print(f\"Model: {name}\")\n",
    "    for metric, value in metrics.items():\n",
    "        print(f\"{metric}: {value}\")\n",
    "    print()\n"
   ]
  },
  {
   "cell_type": "markdown",
   "metadata": {},
   "source": [
    "Gridsearchcv"
   ]
  },
  {
   "cell_type": "code",
   "execution_count": 29,
   "metadata": {},
   "outputs": [],
   "source": [
    "from sklearn.model_selection import GridSearchCV\n",
    "\n",
    "# Define the parameter grid for each model\n",
    "param_grid = {\n",
    "    \"RandomForest\": {\n",
    "        \"n_estimators\": [50, 100, 150],\n",
    "        \"max_depth\": [None, 10, 20]\n",
    "    },\n",
    "    \"GradientBoosting\": {\n",
    "        \"n_estimators\": [50, 100, 150],\n",
    "        \"learning_rate\": [0.01, 0.1, 1.0]\n",
    "    },\n",
    "    \"AdaBoost\": {\n",
    "        \"n_estimators\": [50, 100, 150],\n",
    "        \"learning_rate\": [0.01, 0.1, 1.0]\n",
    "    },\n",
    "    \"SVC\": {\n",
    "        \"C\": [0.1, 1, 10],\n",
    "        \"kernel\": [\"linear\", \"rbf\"]\n",
    "    },\n",
    "    \"KNeighbors\": {\n",
    "        \"n_neighbors\": [3, 5, 7],\n",
    "        \"weights\": [\"uniform\", \"distance\"]\n",
    "    }\n",
    "}"
   ]
  },
  {
   "cell_type": "code",
   "execution_count": 30,
   "metadata": {},
   "outputs": [],
   "source": [
    "# Initialize models\n",
    "models = {\n",
    "    \"RandomForest\": RandomForestClassifier(),\n",
    "    \"GradientBoosting\": GradientBoostingClassifier(),\n",
    "    \"AdaBoost\": AdaBoostClassifier(),\n",
    "    \"SVC\": SVC(),\n",
    "    \"KNeighbors\": KNeighborsClassifier()\n",
    "}"
   ]
  },
  {
   "cell_type": "markdown",
   "metadata": {},
   "source": [
    "Hyperparameter tuning"
   ]
  },
  {
   "cell_type": "code",
   "execution_count": 31,
   "metadata": {},
   "outputs": [
    {
     "name": "stderr",
     "output_type": "stream",
     "text": [
      "c:\\Users\\Tprab\\AppData\\Local\\Programs\\Python\\Python312\\Lib\\site-packages\\sklearn\\ensemble\\_weight_boosting.py:519: FutureWarning: The SAMME.R algorithm (the default) is deprecated and will be removed in 1.6. Use the SAMME algorithm to circumvent this warning.\n",
      "  warnings.warn(\n",
      "c:\\Users\\Tprab\\AppData\\Local\\Programs\\Python\\Python312\\Lib\\site-packages\\sklearn\\ensemble\\_weight_boosting.py:519: FutureWarning: The SAMME.R algorithm (the default) is deprecated and will be removed in 1.6. Use the SAMME algorithm to circumvent this warning.\n",
      "  warnings.warn(\n",
      "c:\\Users\\Tprab\\AppData\\Local\\Programs\\Python\\Python312\\Lib\\site-packages\\sklearn\\ensemble\\_weight_boosting.py:519: FutureWarning: The SAMME.R algorithm (the default) is deprecated and will be removed in 1.6. Use the SAMME algorithm to circumvent this warning.\n",
      "  warnings.warn(\n",
      "c:\\Users\\Tprab\\AppData\\Local\\Programs\\Python\\Python312\\Lib\\site-packages\\sklearn\\ensemble\\_weight_boosting.py:519: FutureWarning: The SAMME.R algorithm (the default) is deprecated and will be removed in 1.6. Use the SAMME algorithm to circumvent this warning.\n",
      "  warnings.warn(\n",
      "c:\\Users\\Tprab\\AppData\\Local\\Programs\\Python\\Python312\\Lib\\site-packages\\sklearn\\ensemble\\_weight_boosting.py:519: FutureWarning: The SAMME.R algorithm (the default) is deprecated and will be removed in 1.6. Use the SAMME algorithm to circumvent this warning.\n",
      "  warnings.warn(\n",
      "c:\\Users\\Tprab\\AppData\\Local\\Programs\\Python\\Python312\\Lib\\site-packages\\sklearn\\ensemble\\_weight_boosting.py:519: FutureWarning: The SAMME.R algorithm (the default) is deprecated and will be removed in 1.6. Use the SAMME algorithm to circumvent this warning.\n",
      "  warnings.warn(\n",
      "c:\\Users\\Tprab\\AppData\\Local\\Programs\\Python\\Python312\\Lib\\site-packages\\sklearn\\ensemble\\_weight_boosting.py:519: FutureWarning: The SAMME.R algorithm (the default) is deprecated and will be removed in 1.6. Use the SAMME algorithm to circumvent this warning.\n",
      "  warnings.warn(\n",
      "c:\\Users\\Tprab\\AppData\\Local\\Programs\\Python\\Python312\\Lib\\site-packages\\sklearn\\ensemble\\_weight_boosting.py:519: FutureWarning: The SAMME.R algorithm (the default) is deprecated and will be removed in 1.6. Use the SAMME algorithm to circumvent this warning.\n",
      "  warnings.warn(\n",
      "c:\\Users\\Tprab\\AppData\\Local\\Programs\\Python\\Python312\\Lib\\site-packages\\sklearn\\ensemble\\_weight_boosting.py:519: FutureWarning: The SAMME.R algorithm (the default) is deprecated and will be removed in 1.6. Use the SAMME algorithm to circumvent this warning.\n",
      "  warnings.warn(\n",
      "c:\\Users\\Tprab\\AppData\\Local\\Programs\\Python\\Python312\\Lib\\site-packages\\sklearn\\ensemble\\_weight_boosting.py:519: FutureWarning: The SAMME.R algorithm (the default) is deprecated and will be removed in 1.6. Use the SAMME algorithm to circumvent this warning.\n",
      "  warnings.warn(\n",
      "c:\\Users\\Tprab\\AppData\\Local\\Programs\\Python\\Python312\\Lib\\site-packages\\sklearn\\ensemble\\_weight_boosting.py:519: FutureWarning: The SAMME.R algorithm (the default) is deprecated and will be removed in 1.6. Use the SAMME algorithm to circumvent this warning.\n",
      "  warnings.warn(\n",
      "c:\\Users\\Tprab\\AppData\\Local\\Programs\\Python\\Python312\\Lib\\site-packages\\sklearn\\ensemble\\_weight_boosting.py:519: FutureWarning: The SAMME.R algorithm (the default) is deprecated and will be removed in 1.6. Use the SAMME algorithm to circumvent this warning.\n",
      "  warnings.warn(\n",
      "c:\\Users\\Tprab\\AppData\\Local\\Programs\\Python\\Python312\\Lib\\site-packages\\sklearn\\ensemble\\_weight_boosting.py:519: FutureWarning: The SAMME.R algorithm (the default) is deprecated and will be removed in 1.6. Use the SAMME algorithm to circumvent this warning.\n",
      "  warnings.warn(\n",
      "c:\\Users\\Tprab\\AppData\\Local\\Programs\\Python\\Python312\\Lib\\site-packages\\sklearn\\ensemble\\_weight_boosting.py:519: FutureWarning: The SAMME.R algorithm (the default) is deprecated and will be removed in 1.6. Use the SAMME algorithm to circumvent this warning.\n",
      "  warnings.warn(\n",
      "c:\\Users\\Tprab\\AppData\\Local\\Programs\\Python\\Python312\\Lib\\site-packages\\sklearn\\ensemble\\_weight_boosting.py:519: FutureWarning: The SAMME.R algorithm (the default) is deprecated and will be removed in 1.6. Use the SAMME algorithm to circumvent this warning.\n",
      "  warnings.warn(\n",
      "c:\\Users\\Tprab\\AppData\\Local\\Programs\\Python\\Python312\\Lib\\site-packages\\sklearn\\ensemble\\_weight_boosting.py:519: FutureWarning: The SAMME.R algorithm (the default) is deprecated and will be removed in 1.6. Use the SAMME algorithm to circumvent this warning.\n",
      "  warnings.warn(\n",
      "c:\\Users\\Tprab\\AppData\\Local\\Programs\\Python\\Python312\\Lib\\site-packages\\sklearn\\ensemble\\_weight_boosting.py:519: FutureWarning: The SAMME.R algorithm (the default) is deprecated and will be removed in 1.6. Use the SAMME algorithm to circumvent this warning.\n",
      "  warnings.warn(\n",
      "c:\\Users\\Tprab\\AppData\\Local\\Programs\\Python\\Python312\\Lib\\site-packages\\sklearn\\ensemble\\_weight_boosting.py:519: FutureWarning: The SAMME.R algorithm (the default) is deprecated and will be removed in 1.6. Use the SAMME algorithm to circumvent this warning.\n",
      "  warnings.warn(\n",
      "c:\\Users\\Tprab\\AppData\\Local\\Programs\\Python\\Python312\\Lib\\site-packages\\sklearn\\ensemble\\_weight_boosting.py:519: FutureWarning: The SAMME.R algorithm (the default) is deprecated and will be removed in 1.6. Use the SAMME algorithm to circumvent this warning.\n",
      "  warnings.warn(\n",
      "c:\\Users\\Tprab\\AppData\\Local\\Programs\\Python\\Python312\\Lib\\site-packages\\sklearn\\ensemble\\_weight_boosting.py:519: FutureWarning: The SAMME.R algorithm (the default) is deprecated and will be removed in 1.6. Use the SAMME algorithm to circumvent this warning.\n",
      "  warnings.warn(\n",
      "c:\\Users\\Tprab\\AppData\\Local\\Programs\\Python\\Python312\\Lib\\site-packages\\sklearn\\ensemble\\_weight_boosting.py:519: FutureWarning: The SAMME.R algorithm (the default) is deprecated and will be removed in 1.6. Use the SAMME algorithm to circumvent this warning.\n",
      "  warnings.warn(\n",
      "c:\\Users\\Tprab\\AppData\\Local\\Programs\\Python\\Python312\\Lib\\site-packages\\sklearn\\ensemble\\_weight_boosting.py:519: FutureWarning: The SAMME.R algorithm (the default) is deprecated and will be removed in 1.6. Use the SAMME algorithm to circumvent this warning.\n",
      "  warnings.warn(\n",
      "c:\\Users\\Tprab\\AppData\\Local\\Programs\\Python\\Python312\\Lib\\site-packages\\sklearn\\ensemble\\_weight_boosting.py:519: FutureWarning: The SAMME.R algorithm (the default) is deprecated and will be removed in 1.6. Use the SAMME algorithm to circumvent this warning.\n",
      "  warnings.warn(\n",
      "c:\\Users\\Tprab\\AppData\\Local\\Programs\\Python\\Python312\\Lib\\site-packages\\sklearn\\ensemble\\_weight_boosting.py:519: FutureWarning: The SAMME.R algorithm (the default) is deprecated and will be removed in 1.6. Use the SAMME algorithm to circumvent this warning.\n",
      "  warnings.warn(\n",
      "c:\\Users\\Tprab\\AppData\\Local\\Programs\\Python\\Python312\\Lib\\site-packages\\sklearn\\ensemble\\_weight_boosting.py:519: FutureWarning: The SAMME.R algorithm (the default) is deprecated and will be removed in 1.6. Use the SAMME algorithm to circumvent this warning.\n",
      "  warnings.warn(\n",
      "c:\\Users\\Tprab\\AppData\\Local\\Programs\\Python\\Python312\\Lib\\site-packages\\sklearn\\ensemble\\_weight_boosting.py:519: FutureWarning: The SAMME.R algorithm (the default) is deprecated and will be removed in 1.6. Use the SAMME algorithm to circumvent this warning.\n",
      "  warnings.warn(\n",
      "c:\\Users\\Tprab\\AppData\\Local\\Programs\\Python\\Python312\\Lib\\site-packages\\sklearn\\ensemble\\_weight_boosting.py:519: FutureWarning: The SAMME.R algorithm (the default) is deprecated and will be removed in 1.6. Use the SAMME algorithm to circumvent this warning.\n",
      "  warnings.warn(\n",
      "c:\\Users\\Tprab\\AppData\\Local\\Programs\\Python\\Python312\\Lib\\site-packages\\sklearn\\ensemble\\_weight_boosting.py:519: FutureWarning: The SAMME.R algorithm (the default) is deprecated and will be removed in 1.6. Use the SAMME algorithm to circumvent this warning.\n",
      "  warnings.warn(\n",
      "c:\\Users\\Tprab\\AppData\\Local\\Programs\\Python\\Python312\\Lib\\site-packages\\sklearn\\ensemble\\_weight_boosting.py:519: FutureWarning: The SAMME.R algorithm (the default) is deprecated and will be removed in 1.6. Use the SAMME algorithm to circumvent this warning.\n",
      "  warnings.warn(\n",
      "c:\\Users\\Tprab\\AppData\\Local\\Programs\\Python\\Python312\\Lib\\site-packages\\sklearn\\ensemble\\_weight_boosting.py:519: FutureWarning: The SAMME.R algorithm (the default) is deprecated and will be removed in 1.6. Use the SAMME algorithm to circumvent this warning.\n",
      "  warnings.warn(\n",
      "c:\\Users\\Tprab\\AppData\\Local\\Programs\\Python\\Python312\\Lib\\site-packages\\sklearn\\ensemble\\_weight_boosting.py:519: FutureWarning: The SAMME.R algorithm (the default) is deprecated and will be removed in 1.6. Use the SAMME algorithm to circumvent this warning.\n",
      "  warnings.warn(\n",
      "c:\\Users\\Tprab\\AppData\\Local\\Programs\\Python\\Python312\\Lib\\site-packages\\sklearn\\ensemble\\_weight_boosting.py:519: FutureWarning: The SAMME.R algorithm (the default) is deprecated and will be removed in 1.6. Use the SAMME algorithm to circumvent this warning.\n",
      "  warnings.warn(\n",
      "c:\\Users\\Tprab\\AppData\\Local\\Programs\\Python\\Python312\\Lib\\site-packages\\sklearn\\ensemble\\_weight_boosting.py:519: FutureWarning: The SAMME.R algorithm (the default) is deprecated and will be removed in 1.6. Use the SAMME algorithm to circumvent this warning.\n",
      "  warnings.warn(\n",
      "c:\\Users\\Tprab\\AppData\\Local\\Programs\\Python\\Python312\\Lib\\site-packages\\sklearn\\ensemble\\_weight_boosting.py:519: FutureWarning: The SAMME.R algorithm (the default) is deprecated and will be removed in 1.6. Use the SAMME algorithm to circumvent this warning.\n",
      "  warnings.warn(\n",
      "c:\\Users\\Tprab\\AppData\\Local\\Programs\\Python\\Python312\\Lib\\site-packages\\sklearn\\ensemble\\_weight_boosting.py:519: FutureWarning: The SAMME.R algorithm (the default) is deprecated and will be removed in 1.6. Use the SAMME algorithm to circumvent this warning.\n",
      "  warnings.warn(\n",
      "c:\\Users\\Tprab\\AppData\\Local\\Programs\\Python\\Python312\\Lib\\site-packages\\sklearn\\ensemble\\_weight_boosting.py:519: FutureWarning: The SAMME.R algorithm (the default) is deprecated and will be removed in 1.6. Use the SAMME algorithm to circumvent this warning.\n",
      "  warnings.warn(\n",
      "c:\\Users\\Tprab\\AppData\\Local\\Programs\\Python\\Python312\\Lib\\site-packages\\sklearn\\ensemble\\_weight_boosting.py:519: FutureWarning: The SAMME.R algorithm (the default) is deprecated and will be removed in 1.6. Use the SAMME algorithm to circumvent this warning.\n",
      "  warnings.warn(\n",
      "c:\\Users\\Tprab\\AppData\\Local\\Programs\\Python\\Python312\\Lib\\site-packages\\sklearn\\ensemble\\_weight_boosting.py:519: FutureWarning: The SAMME.R algorithm (the default) is deprecated and will be removed in 1.6. Use the SAMME algorithm to circumvent this warning.\n",
      "  warnings.warn(\n",
      "c:\\Users\\Tprab\\AppData\\Local\\Programs\\Python\\Python312\\Lib\\site-packages\\sklearn\\ensemble\\_weight_boosting.py:519: FutureWarning: The SAMME.R algorithm (the default) is deprecated and will be removed in 1.6. Use the SAMME algorithm to circumvent this warning.\n",
      "  warnings.warn(\n",
      "c:\\Users\\Tprab\\AppData\\Local\\Programs\\Python\\Python312\\Lib\\site-packages\\sklearn\\ensemble\\_weight_boosting.py:519: FutureWarning: The SAMME.R algorithm (the default) is deprecated and will be removed in 1.6. Use the SAMME algorithm to circumvent this warning.\n",
      "  warnings.warn(\n",
      "c:\\Users\\Tprab\\AppData\\Local\\Programs\\Python\\Python312\\Lib\\site-packages\\sklearn\\ensemble\\_weight_boosting.py:519: FutureWarning: The SAMME.R algorithm (the default) is deprecated and will be removed in 1.6. Use the SAMME algorithm to circumvent this warning.\n",
      "  warnings.warn(\n",
      "c:\\Users\\Tprab\\AppData\\Local\\Programs\\Python\\Python312\\Lib\\site-packages\\sklearn\\ensemble\\_weight_boosting.py:519: FutureWarning: The SAMME.R algorithm (the default) is deprecated and will be removed in 1.6. Use the SAMME algorithm to circumvent this warning.\n",
      "  warnings.warn(\n",
      "c:\\Users\\Tprab\\AppData\\Local\\Programs\\Python\\Python312\\Lib\\site-packages\\sklearn\\ensemble\\_weight_boosting.py:519: FutureWarning: The SAMME.R algorithm (the default) is deprecated and will be removed in 1.6. Use the SAMME algorithm to circumvent this warning.\n",
      "  warnings.warn(\n",
      "c:\\Users\\Tprab\\AppData\\Local\\Programs\\Python\\Python312\\Lib\\site-packages\\sklearn\\ensemble\\_weight_boosting.py:519: FutureWarning: The SAMME.R algorithm (the default) is deprecated and will be removed in 1.6. Use the SAMME algorithm to circumvent this warning.\n",
      "  warnings.warn(\n",
      "c:\\Users\\Tprab\\AppData\\Local\\Programs\\Python\\Python312\\Lib\\site-packages\\sklearn\\ensemble\\_weight_boosting.py:519: FutureWarning: The SAMME.R algorithm (the default) is deprecated and will be removed in 1.6. Use the SAMME algorithm to circumvent this warning.\n",
      "  warnings.warn(\n",
      "c:\\Users\\Tprab\\AppData\\Local\\Programs\\Python\\Python312\\Lib\\site-packages\\sklearn\\ensemble\\_weight_boosting.py:519: FutureWarning: The SAMME.R algorithm (the default) is deprecated and will be removed in 1.6. Use the SAMME algorithm to circumvent this warning.\n",
      "  warnings.warn(\n"
     ]
    }
   ],
   "source": [
    "from sklearn.model_selection import GridSearchCV\n",
    "import joblib\n",
    "\n",
    "# Initialize GridSearchCV for each model\n",
    "best_models = {}\n",
    "for name, model in models.items():\n",
    "    grid_search = GridSearchCV(model, param_grid[name], cv=5, scoring='accuracy')\n",
    "    grid_search.fit(X_train, y_train)\n",
    "    best_models[name] = grid_search.best_estimator_\n",
    "\n",
    "# Save the best models using joblib\n",
    "for name, model in best_models.items():\n",
    "    joblib.dump(model, f\"{name}_best_model.pkl\")\n",
    "\n",
    "# Now you can load the best models whenever needed\n",
    "loaded_models = {}\n",
    "for name in best_models:\n",
    "    loaded_models[name] = joblib.load(f\"{name}_best_model.pkl\")\n"
   ]
  },
  {
   "cell_type": "code",
   "execution_count": null,
   "metadata": {},
   "outputs": [],
   "source": []
  },
  {
   "cell_type": "code",
   "execution_count": null,
   "metadata": {},
   "outputs": [],
   "source": []
  },
  {
   "cell_type": "code",
   "execution_count": null,
   "metadata": {},
   "outputs": [],
   "source": []
  },
  {
   "cell_type": "code",
   "execution_count": null,
   "metadata": {},
   "outputs": [],
   "source": []
  },
  {
   "cell_type": "markdown",
   "metadata": {},
   "source": [
    "st page creation"
   ]
  },
  {
   "cell_type": "markdown",
   "metadata": {},
   "source": [
    "Prediction Page"
   ]
  },
  {
   "cell_type": "code",
   "execution_count": null,
   "metadata": {},
   "outputs": [],
   "source": [
    "import streamlit as st\n",
    "import numpy as np\n",
    "from sklearn.ensemble import RandomForestClassifier"
   ]
  },
  {
   "cell_type": "code",
   "execution_count": 192,
   "metadata": {},
   "outputs": [],
   "source": [
    "def predict(model, features):\n",
    "    # Create a DataFrame from the selected features\n",
    "    df = pd.DataFrame(features, columns=['sessionQualityDim', 'avg_session_time_binned', 'single_page_rate', 'count_hit_binned', 'num_interactions_binned'])\n",
    "\n",
    "    # Predict with the model\n",
    "    prediction = model.predict(df)\n",
    "    prediction_proba = model.predict_proba(df)[:, 1]  # Probability of positive class\n",
    "    return prediction, prediction_proba\n",
    "\n",
    "\n",
    "def load_model(filename):\n",
    "    with open(filename, 'rb') as file:\n",
    "        model = pickle.load(file)\n",
    "    return model\n",
    "\n",
    "model = load_model('random_forest_model.pkl')\n",
    "\n",
    "def page4():\n",
    "    st.title(\"Prediction\")\n",
    "\n",
    "    # Selectbox options for each feature\n",
    "    num_interactions_options = [1, 2, 3]\n",
    "    avg_session_time_options = [1, 2, 3]\n",
    "    sessionQualityDim_options = [1,2,3,4,5,6,7,9,8]  # Replace with actual values\n",
    "    count_hit_options = [1, 2, 3]\n",
    "    single_page_rate_options = [1,2,3,4,5,6,7,9,8]  # Replace with actual values\n",
    "\n",
    "    selected_num_interactions = st.selectbox('SELECT NUM INTERACTIONS', options=num_interactions_options)\n",
    "    selected_avg_session_time = st.selectbox('SELECT AVG SESSION TIME', options=avg_session_time_options)\n",
    "    selected_sessionQualityDim = st.selectbox('SELECT QUALITY DIM', options=sessionQualityDim_options)\n",
    "    selected_count_hit = st.selectbox('SELECT COUNT HIT', options=count_hit_options)\n",
    "    selected_single_page_rate = st.selectbox('SELECT SINGLE PAGE RATE', options=single_page_rate_options)\n",
    "\n",
    "    # Button to trigger prediction\n",
    "    if st.button('Predict'):\n",
    "        # Get predictions and prediction probabilities\n",
    "        features = np.array([[selected_num_interactions, selected_avg_session_time, \n",
    "                              selected_sessionQualityDim, selected_count_hit, \n",
    "                              selected_single_page_rate]])\n",
    "\n",
    "        # Ensure correct feature names and order\n",
    "        feature_names = ['num_interactions', 'avg_session_time', 'sessionQualityDim', 'count_hit', 'single_page_rate']\n",
    "        features_df = pd.DataFrame(features, columns=feature_names)\n",
    "\n",
    "        # Predict\n",
    "        prediction, prediction_proba = predict(model, features_df)\n",
    "        \n",
    "        # Display predictions\n",
    "        st.write('Prediction:', \"Convert\" if prediction == 1 else \"Not Convert\")\n",
    "        st.write('Prediction Probability:', prediction_proba)"
   ]
  },
  {
   "cell_type": "code",
   "execution_count": null,
   "metadata": {},
   "outputs": [],
   "source": []
  },
  {
   "cell_type": "code",
   "execution_count": null,
   "metadata": {},
   "outputs": [],
   "source": []
  }
 ],
 "metadata": {
  "kernelspec": {
   "display_name": "Python 3",
   "language": "python",
   "name": "python3"
  },
  "language_info": {
   "codemirror_mode": {
    "name": "ipython",
    "version": 3
   },
   "file_extension": ".py",
   "mimetype": "text/x-python",
   "name": "python",
   "nbconvert_exporter": "python",
   "pygments_lexer": "ipython3",
   "version": "3.12.0"
  }
 },
 "nbformat": 4,
 "nbformat_minor": 2
}
